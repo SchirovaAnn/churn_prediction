{
 "cells": [
  {
   "cell_type": "markdown",
   "metadata": {},
   "source": [
    "## WEEK 5. Эксперименты с моделью прогнозирования оттока."
   ]
  },
  {
   "cell_type": "markdown",
   "metadata": {},
   "source": [
    "На прошлой неделе вы поучаствовали в соревновании на kaggle и, наверняка, большинство успешно справилось с прохождением baseline, а значит пора двигаться дальше - заняться оптимизацией модели, провести серию экспериментов и построить сильное финальное решение.\n",
    "\n",
    "В этом задании вам нужно провести ряд эскпериментов, оценить качество полученных в процессе экспериментирования моделей и выбрать лучшее решение. Подробные инструкции даны в приложенном jupyther notebook."
   ]
  },
  {
   "cell_type": "code",
   "execution_count": 211,
   "metadata": {},
   "outputs": [],
   "source": [
    "import pandas as pd\n",
    "import numpy as np\n",
    "from sklearn.model_selection import cross_val_score, StratifiedKFold, train_test_split, learning_curve, RandomizedSearchCV, GridSearchCV\n",
    "from sklearn.ensemble import GradientBoostingClassifier\n",
    "from sklearn.metrics import roc_auc_score\n",
    "from sklearn.preprocessing import StandardScaler\n",
    "from sklearn.feature_selection import SelectKBest\n",
    "from sklearn.utils import shuffle\n",
    "import xgboost as xgb\n",
    "import matplotlib.pyplot as plt\n",
    "%matplotlib inline"
   ]
  },
  {
   "cell_type": "code",
   "execution_count": 212,
   "metadata": {},
   "outputs": [],
   "source": [
    "train_data = pd.read_csv(\"orange_small_churn_train_data.csv\")\n",
    "test_data = pd.read_csv(\"orange_small_churn_test_data.csv\")\n",
    "data = pd.concat((train_data.iloc[:,:-1], test_data), axis=0).drop(columns=['ID'])\n",
    "y = train_data.iloc[:,-1].fillna(-1.0)"
   ]
  },
  {
   "cell_type": "code",
   "execution_count": 213,
   "metadata": {},
   "outputs": [],
   "source": [
    "#удалим переменные, у которых пропущенно более 70% данных:\n",
    "NaN_num = (data.iloc[:, 0:190].isna().sum(axis = 0)/data.shape[0])\n",
    "NaN_cat = (data.iloc[:, 190:].isna().sum(axis = 0)/data.shape[0])\n",
    "\n",
    "NaN_num_del=[]\n",
    "for i in range(NaN_num.shape[0]):\n",
    "    if NaN_num[i]>=0.7: NaN_num_del.append(NaN_num.index[i])\n",
    "NaN_cat_del=[]\n",
    "for i in range(NaN_cat.shape[0]):\n",
    "    if NaN_cat[i]>0.7: NaN_cat_del.append(NaN_cat.index[i])\n",
    "        \n",
    "X_num = data.iloc[:, 0:190].drop(columns=NaN_num_del)\n",
    "X_cat = data.iloc[:, 190:].drop(columns=NaN_cat_del)"
   ]
  },
  {
   "cell_type": "code",
   "execution_count": 174,
   "metadata": {},
   "outputs": [],
   "source": [
    "#заполняем пропуски у числовых фич средним значением\n",
    "X_num = X_num.fillna(X_num.mean())  "
   ]
  },
  {
   "cell_type": "code",
   "execution_count": null,
   "metadata": {},
   "outputs": [],
   "source": [
    "#удалим признаки, у которых более 50 различных категорий\n",
    "unique = []\n",
    "for j in X_cat.columns:\n",
    "    if len(X_cat[j].dropna().unique())>50: unique.append(j)\n",
    "\n",
    "X_cat = X_cat.drop(columns=unique)"
   ]
  },
  {
   "cell_type": "code",
   "execution_count": 54,
   "metadata": {},
   "outputs": [],
   "source": [
    "X_cat = pd.get_dummies(X_cat, dummy_na=True)    #примением Onehotencoding"
   ]
  },
  {
   "cell_type": "code",
   "execution_count": 64,
   "metadata": {},
   "outputs": [],
   "source": [
    "#Объединим числовые и категориальные признаки\n",
    "common_data = pd.concat((X_num, X_cat), axis=1)\n",
    "\n",
    "X = common_data.iloc[:-10000,:]\n",
    "X_kaggle = common_data.iloc[-10000:,:]"
   ]
  },
  {
   "cell_type": "markdown",
   "metadata": {},
   "source": [
    "### Модель"
   ]
  },
  {
   "cell_type": "code",
   "execution_count": 176,
   "metadata": {},
   "outputs": [],
   "source": [
    "X_train, X_test, y_train, y_test = train_test_split(X, y, test_size=0.3, stratify=y, random_state=0)"
   ]
  },
  {
   "cell_type": "code",
   "execution_count": 177,
   "metadata": {},
   "outputs": [],
   "source": [
    "GBclf = GradientBoostingClassifier(random_state=1)\n",
    "cv_strategy = StratifiedKFold(n_splits = 5, shuffle = True, random_state = 0)"
   ]
  },
  {
   "cell_type": "code",
   "execution_count": 17,
   "metadata": {},
   "outputs": [
    {
     "data": {
      "text/plain": [
       "0.7199740073732313"
      ]
     },
     "execution_count": 17,
     "metadata": {},
     "output_type": "execute_result"
    }
   ],
   "source": [
    "#Проверка модели на кросс-валидации\n",
    "cross_val_score(GBclf, X_train, y_train, scoring = 'roc_auc', cv=cv_strategy).mean()"
   ]
  },
  {
   "cell_type": "markdown",
   "metadata": {},
   "source": [
    "# Инструкции"
   ]
  },
  {
   "cell_type": "markdown",
   "metadata": {},
   "source": [
    "# 1"
   ]
  },
  {
   "cell_type": "markdown",
   "metadata": {},
   "source": [
    "1\\. Начнем с простого. Давайте оценим как много объектов действительно нужно для построения качественной модели. Для обучения доступна достаточно большая выборка и может так оказаться, что начиная с некоторого момента рост размера обучающей выборки перестает влиять на качество модели. Постройте кривые обучения, обучая модель на выборках разного размера начиная с небольшого количество объектов в обучающей выборке и постепенно наращивая её размер с некоторым шагом. Обратите внимание на `sklearn.model_selection.learning_curve`"
   ]
  },
  {
   "cell_type": "code",
   "execution_count": null,
   "metadata": {},
   "outputs": [],
   "source": [
    "train_sizes, train_scores, test_scores=learning_curve(GBclf, X, y, train_sizes=np.linspace(0.1, 1, 10), scoring=\"roc_auc\", cv=5)"
   ]
  },
  {
   "cell_type": "code",
   "execution_count": 242,
   "metadata": {},
   "outputs": [
    {
     "data": {
      "image/png": "[encoded data removed]",
      "text/plain": [
       "<Figure size 432x288 with 1 Axes>"
      ]
     },
     "metadata": {
      "needs_background": "light"
     },
     "output_type": "display_data"
    }
   ],
   "source": [
    "plt.figure()\n",
    "plt.plot(train_sizes, train_scores.mean(axis=1), 'o-', color=\"g\", label=\"Train score\")\n",
    "plt.plot(train_sizes, test_scores.mean(axis=1), 'o-', color=\"r\", label=\"Test score\")\n",
    "plt.xlabel(\"size\")\n",
    "plt.ylabel(\"roc_auc\")\n",
    "plt.title('Learning curves')\n",
    "plt.legend(loc=\"best\")\n",
    "plt.show()"
   ]
  },
  {
   "cell_type": "markdown",
   "metadata": {},
   "source": [
    "##### Рост качества на тестовой выборке замедляется примерно с 12000 объектов, но тем не менее качество растет, модель строится быстро, поэтому оставим все объекты в выборке."
   ]
  },
  {
   "cell_type": "markdown",
   "metadata": {},
   "source": [
    "# 2"
   ]
  },
  {
   "cell_type": "markdown",
   "metadata": {},
   "source": [
    "2. Часто несбалансированные по классам выборки приводят к различным проблемам при обучении моделей. Давайте попробуем по-разному обработать выборку, поиграть с распределением объектов по классам и сделать выводы о том, как соотношение классов влияет на качество модели."
   ]
  },
  {
   "cell_type": "markdown",
   "metadata": {},
   "source": [
    "2.1. Задайте веса объектам так, чтобы соотношение классов с учетом весов объектов изменилось. Попробуйте не менее трёх различных вариантов весов. Меняются ли результаты классификации? Как это сказывается на качестве модели? Какой вариант выглядит наиболее оптимальным с точки зрения качества?"
   ]
  },
  {
   "cell_type": "code",
   "execution_count": 18,
   "metadata": {},
   "outputs": [
    {
     "name": "stdout",
     "output_type": "stream",
     "text": [
      "Не отток:16922\n",
      "Oтток:1377\n"
     ]
    }
   ],
   "source": [
    "print('Не отток:{}'.format(sum(y==-1)))\n",
    "print('Oтток:{}'.format(sum(y==1)))"
   ]
  },
  {
   "cell_type": "markdown",
   "metadata": {},
   "source": [
    "1) Балансировка 20/80 (не отток/отток)"
   ]
  },
  {
   "cell_type": "code",
   "execution_count": 30,
   "metadata": {},
   "outputs": [
    {
     "name": "stdout",
     "output_type": "stream",
     "text": [
      "Balance 20/80:0.7172549711533766\n"
     ]
    }
   ],
   "source": [
    "w0=0.2\n",
    "w1=0.8\n",
    "weights = np.array([w0 if r==-1 else w1 for r in y_train])\n",
    "balance_20_80 = cross_val_score(GBclf, X_train, y_train, cv=cv_strategy, scoring='roc_auc', \n",
    "                                fit_params={'sample_weight': weights}, ).mean()\n",
    "print ('Balance 20/80:  {}'.format(balance_20_80))"
   ]
  },
  {
   "cell_type": "markdown",
   "metadata": {},
   "source": [
    "2) Балансировка 80/20 (не отток/отток)"
   ]
  },
  {
   "cell_type": "code",
   "execution_count": 32,
   "metadata": {},
   "outputs": [
    {
     "name": "stdout",
     "output_type": "stream",
     "text": [
      "Balance 80/20: 0.7191785870640565\n"
     ]
    }
   ],
   "source": [
    "w0=0.8\n",
    "w1=0.2\n",
    "weights = np.array([w0 if r==-1 else w1 for r in y_train])\n",
    "balance_80_20 = cross_val_score(GBclf, X_train, y_train, cv=cv_strategy, scoring='roc_auc', \n",
    "                                fit_params={'sample_weight': weights}, ).mean()\n",
    "print ('Balance 80/20: {}'.format(balance_80_20))"
   ]
  },
  {
   "cell_type": "markdown",
   "metadata": {},
   "source": [
    "3) Балансировка 50/50 (не отток/отток)"
   ]
  },
  {
   "cell_type": "code",
   "execution_count": 33,
   "metadata": {},
   "outputs": [
    {
     "name": "stdout",
     "output_type": "stream",
     "text": [
      "Balance 50/50: 0.7189936650704152\n"
     ]
    }
   ],
   "source": [
    "w0=0.5\n",
    "w1=0.5\n",
    "weights = np.array([w0 if r==-1 else w1 for r in y_train])\n",
    "balance_50_50 = cross_val_score(GBclf, X_train, y_train, cv=cv_strategy, scoring='roc_auc', \n",
    "                                fit_params={'sample_weight': weights}, ).mean()\n",
    "print ('Balance 50/50: {}'.format(balance_50_50))"
   ]
  },
  {
   "cell_type": "markdown",
   "metadata": {},
   "source": [
    "4) Балансировка 70/30 (не отток/отток)"
   ]
  },
  {
   "cell_type": "code",
   "execution_count": 36,
   "metadata": {},
   "outputs": [
    {
     "name": "stdout",
     "output_type": "stream",
     "text": [
      "Balance 70/30: 0.718810360652965\n"
     ]
    }
   ],
   "source": [
    "w0=0.7\n",
    "w1=0.3\n",
    "weights = np.array([w0 if r==-1 else w1 for r in y_train])\n",
    "balance_70_30 = cross_val_score(GBclf, X_train, y_train, cv=cv_strategy, scoring='roc_auc', \n",
    "                                fit_params={'sample_weight': weights}, ).mean()\n",
    "print ('Balance 70/30: {}'.format(balance_70_30))"
   ]
  },
  {
   "cell_type": "markdown",
   "metadata": {},
   "source": [
    "5) Балансировка 60/40 (не отток/отток)"
   ]
  },
  {
   "cell_type": "code",
   "execution_count": 35,
   "metadata": {},
   "outputs": [
    {
     "name": "stdout",
     "output_type": "stream",
     "text": [
      "Balance 60/40: 0.7196468024665167\n"
     ]
    }
   ],
   "source": [
    "w0=0.6\n",
    "w1=0.4\n",
    "weights = np.array([w0 if r==-1 else w1 for r in y_train])\n",
    "balance_60_40 = cross_val_score(GBclf, X_train, y_train, cv=cv_strategy, scoring='roc_auc', \n",
    "                                fit_params={'sample_weight': weights}, ).mean()\n",
    "print ('Balance 60/40: {}'.format(balance_60_40))"
   ]
  },
  {
   "cell_type": "markdown",
   "metadata": {},
   "source": [
    "6) Балансировка 55/45 (не отток/отток)"
   ]
  },
  {
   "cell_type": "code",
   "execution_count": 38,
   "metadata": {},
   "outputs": [
    {
     "name": "stdout",
     "output_type": "stream",
     "text": [
      "Balance 55/45: 0.719775502296138\n"
     ]
    }
   ],
   "source": [
    "w0=0.55\n",
    "w1=0.45\n",
    "weights = np.array([w0 if r==-1 else w1 for r in y_train])\n",
    "balance_55_45 = cross_val_score(GBclf, X_train, y_train, cv=cv_strategy, scoring='roc_auc', \n",
    "                                fit_params={'sample_weight': weights}, ).mean()\n",
    "print ('Balance 55/45: {}'.format(balance_55_45))"
   ]
  },
  {
   "cell_type": "markdown",
   "metadata": {},
   "source": [
    "##### Лучший результат дала балансировка 55/45, но оценка все равно ниже, чем без балансировки."
   ]
  },
  {
   "cell_type": "markdown",
   "metadata": {},
   "source": [
    "2.2\\. Примените к выборке технологию undersampling: для этого нужно убрать из обучения некоторое количество объектов большего класса таким образом, чтобы соотношение классов изменилось. Попробуйте не менее трёх различных вариантов undersampling (варианты могут отличаться как по количеству отфильтрованных объектов, так и по принципу выборка объектов для отсеивания из выборки). Меняются ли результаты классификации? Как это сказывается на качестве модели? Какой вариант выглядит наиболее оптимальным с точки зрения качества?"
   ]
  },
  {
   "cell_type": "code",
   "execution_count": 359,
   "metadata": {},
   "outputs": [
    {
     "name": "stdout",
     "output_type": "stream",
     "text": [
      "Random under-sampling:\n",
      "-1.0    964\n",
      " 1.0    964\n",
      "Name: labels, dtype: int64\n"
     ]
    }
   ],
   "source": [
    "data_train = pd.concat([X_train, y_train], axis=1)\n",
    "\n",
    "count_no_outflow, count_outflow = y_train.value_counts()\n",
    "\n",
    "#Возьмем из группы \"не отток\" столько же элементов, сколько в оттоке\n",
    "df_no_outflow = data_train[data_train['labels'] == -1]\n",
    "df_outflow = data_train[data_train['labels'] == 1]\n",
    "df_no_outflow_under = df_no_outflow.sample(count_outflow)\n",
    "data_undersampling = shuffle(pd.concat([df_no_outflow_under, df_outflow], axis=0))\n",
    "\n",
    "print('Random under-sampling:')\n",
    "print(data_undersampling.labels.value_counts())\n",
    "\n",
    "X_train1 = data_undersampling.iloc[:,:-1]\n",
    "y_train1 = data_undersampling.iloc[:,-1]"
   ]
  },
  {
   "cell_type": "code",
   "execution_count": 360,
   "metadata": {},
   "outputs": [
    {
     "data": {
      "text/plain": [
       "0.7026243720760308"
      ]
     },
     "execution_count": 360,
     "metadata": {},
     "output_type": "execute_result"
    }
   ],
   "source": [
    "cross_val_score(GBclf, X_train1, y_train1, scoring = 'roc_auc', cv=cv_strategy).mean()"
   ]
  },
  {
   "cell_type": "code",
   "execution_count": 363,
   "metadata": {},
   "outputs": [
    {
     "name": "stdout",
     "output_type": "stream",
     "text": [
      "First undersampling:\n",
      "-1.0    1184\n",
      " 1.0     964\n",
      "Name: labels, dtype: int64\n"
     ]
    }
   ],
   "source": [
    "#Уберем конец в классе \"не отток\", оставив 10% от выборки, чтобы примерно уравновесить кол-во объектов разных классов\n",
    "df_no_outflow = data_train[data_train['labels'] == -1].iloc[:int(count_no_outflow/10), :]\n",
    "df_outflow = data_train[data_train['labels'] == 1]\n",
    "data_undersampling = shuffle(pd.concat([df_no_outflow, df_outflow], axis=0))\n",
    "\n",
    "print('First undersampling:')\n",
    "print(data_undersampling.labels.value_counts())\n",
    "\n",
    "X_train2 = data_undersampling.iloc[:,:-1]\n",
    "y_train2 = data_undersampling.iloc[:,-1]"
   ]
  },
  {
   "cell_type": "code",
   "execution_count": 364,
   "metadata": {},
   "outputs": [
    {
     "data": {
      "text/plain": [
       "0.6967379807095515"
      ]
     },
     "execution_count": 364,
     "metadata": {},
     "output_type": "execute_result"
    }
   ],
   "source": [
    "cross_val_score(GBclf, X_train2, y_train2, scoring = 'roc_auc', cv=cv_strategy).mean()"
   ]
  },
  {
   "cell_type": "code",
   "execution_count": 366,
   "metadata": {},
   "outputs": [
    {
     "name": "stdout",
     "output_type": "stream",
     "text": [
      "Last undersampling:\n",
      "-1.0    1184\n",
      " 1.0     964\n",
      "Name: labels, dtype: int64\n"
     ]
    }
   ],
   "source": [
    "#Уберем начало в классе \"не отток\", оставив 10% от выборки, чтобы примерно уравновесить кол-во объектов разных классов\n",
    "df_no_outflow = data_train[data_train['labels'] == -1].iloc[-int(count_no_outflow/10):, :]\n",
    "df_outflow = data_train[data_train['labels'] == 1]\n",
    "data_undersampling = shuffle(pd.concat([df_no_outflow, df_outflow], axis=0))\n",
    "\n",
    "print('Last undersampling:')\n",
    "print(data_undersampling.labels.value_counts())\n",
    "\n",
    "X_train3 = data_undersampling.iloc[:,:-1]\n",
    "y_train3 = data_undersampling.iloc[:,-1]"
   ]
  },
  {
   "cell_type": "code",
   "execution_count": 367,
   "metadata": {},
   "outputs": [
    {
     "data": {
      "text/plain": [
       "0.7021708244958071"
      ]
     },
     "execution_count": 367,
     "metadata": {},
     "output_type": "execute_result"
    }
   ],
   "source": [
    "cross_val_score(GBclf, X_train3, y_train3, scoring = 'roc_auc', cv=cv_strategy).mean()"
   ]
  },
  {
   "cell_type": "markdown",
   "metadata": {},
   "source": [
    "##### Во всех трех случаях качество значительно снизилось, поэтому не будем делать Undersampling"
   ]
  },
  {
   "cell_type": "markdown",
   "metadata": {},
   "source": [
    "# 3"
   ]
  },
  {
   "cell_type": "markdown",
   "metadata": {},
   "source": [
    "3\\. Теперь перейдем к работе с признаками. Ранее вы реализовали несколько стратегий для обработки пропущенных значений. Сравните эти стратегии между собой с помощью оценки качества моделей кросс-валидации, построенных на датасетах с использованием различных стратегий. Как обработка пропущенных значений сказывается на качестве модели? Какой вариант выглядит наиболее оптимальным с точки зрения качества?"
   ]
  },
  {
   "cell_type": "markdown",
   "metadata": {},
   "source": [
    "Заполним пропуски у числовых переменных нулями. Для этого в третьей сверху ячейки с кодом заменим код на: X_num = X_num.fillna(0). Все остальные ячейки по обработке данных и построению модели оставляем без изменений, запускаем их, после проверяем качество на кросс-валидации:"
   ]
  },
  {
   "cell_type": "code",
   "execution_count": 49,
   "metadata": {},
   "outputs": [
    {
     "data": {
      "text/plain": [
       "0.7151944046353628"
      ]
     },
     "execution_count": 49,
     "metadata": {},
     "output_type": "execute_result"
    }
   ],
   "source": [
    "cross_val_score(GBclf, X_train, y_train, scoring = 'roc_auc', cv=cv_strategy).mean()"
   ]
  },
  {
   "cell_type": "markdown",
   "metadata": {},
   "source": [
    "Попробуем заполнить пропуски аномальными значениями: -999. Код соотвественно X_num = X_num.fillna(-999)"
   ]
  },
  {
   "cell_type": "code",
   "execution_count": 57,
   "metadata": {},
   "outputs": [
    {
     "data": {
      "text/plain": [
       "0.71290703343088"
      ]
     },
     "execution_count": 57,
     "metadata": {},
     "output_type": "execute_result"
    }
   ],
   "source": [
    "cross_val_score(GBclf, X_train, y_train, scoring = 'roc_auc', cv=cv_strategy).mean()"
   ]
  },
  {
   "cell_type": "markdown",
   "metadata": {},
   "source": [
    "##### В обоих случаях качество снизилось, поэтому оставляем изначальный вариант заполнения средними значениями"
   ]
  },
  {
   "cell_type": "markdown",
   "metadata": {},
   "source": [
    "# 4"
   ]
  },
  {
   "cell_type": "markdown",
   "metadata": {},
   "source": [
    "4. Также вы уже реализовали несколько стратегий для обработки категориальных признаков. Сравните эти стратегии между собой с помощью оценки качества моделей по кросс-валидации, построенных на датасетах с использованием различных стратегий. Как обработка категориальных признаков сказывается на качестве модели? Какой вариант выглядит наиболее оптимальным с точки зрения качества?"
   ]
  },
  {
   "cell_type": "markdown",
   "metadata": {},
   "source": [
    "Попробуем стратегию LabelEncoder(). Для этого нужно выполнить первые три ячейки с кодом, затем указанную ниже ячейку, пропустить ячейку с удалением категориальных признаков, у которых более 50 разных категорий, пропустить ячейку с Onehotencoder, остальные ячейки выполнить по порядку."
   ]
  },
  {
   "cell_type": "code",
   "execution_count": null,
   "metadata": {},
   "outputs": [],
   "source": [
    "X_cat = X_cat.fillna('Na', axis=0).applymap(str)\n",
    "\n",
    "from sklearn import preprocessing\n",
    "le = preprocessing.LabelEncoder()\n",
    "for j in range(X_cat.shape[1]):\n",
    "    le.fit(X_cat.iloc[:,j])\n",
    "    X_cat.iloc[:,j] = le.transform(X_cat.iloc[:,j])"
   ]
  },
  {
   "cell_type": "code",
   "execution_count": 66,
   "metadata": {},
   "outputs": [
    {
     "data": {
      "text/plain": [
       "0.721599828646281"
      ]
     },
     "execution_count": 66,
     "metadata": {},
     "output_type": "execute_result"
    }
   ],
   "source": [
    "cross_val_score(GBclf, X_train, y_train, scoring = 'roc_auc', cv=cv_strategy).mean()"
   ]
  },
  {
   "cell_type": "markdown",
   "metadata": {},
   "source": [
    "Заменим каждую категорию числом входящих в неё объектов (запуск ячеек аналогично тому, как было в предыдущих пунктах)."
   ]
  },
  {
   "cell_type": "code",
   "execution_count": null,
   "metadata": {},
   "outputs": [],
   "source": [
    "X_cat = X_cat.fillna('Na', axis=0).applymap(str)\n",
    "\n",
    "for j in range(X_cat.shape[1]):                            \n",
    "    X_cat.iloc[:,j] = X_cat.iloc[:,j].map(X_cat.groupby(X_cat.columns[j]).size())   "
   ]
  },
  {
   "cell_type": "code",
   "execution_count": 84,
   "metadata": {},
   "outputs": [
    {
     "data": {
      "text/plain": [
       "0.7237989268953984"
      ]
     },
     "execution_count": 84,
     "metadata": {},
     "output_type": "execute_result"
    }
   ],
   "source": [
    "cross_val_score(GBclf, X_train, y_train, scoring = 'roc_auc', cv=cv_strategy).mean()"
   ]
  },
  {
   "cell_type": "markdown",
   "metadata": {},
   "source": [
    "##### Оставляем последний вариант (каждая ячейка заполнена числом входящих в нее объектов), т.к. при такой обработке модель показывает наилучшее качество"
   ]
  },
  {
   "cell_type": "markdown",
   "metadata": {},
   "source": [
    "# 5"
   ]
  },
  {
   "cell_type": "markdown",
   "metadata": {},
   "source": [
    "5. Все ли признаки оказались полезными для построения моделей? Проведите процедуру отбора признаков, попробуйте разные варианты отбора (обратите внимание на модуль sklearn.feature_selection). Например, можно выбрасывать случайные признаки или строить отбор на основе l1-регуляризации - отфильтровать из обучения признаки, которые получат нулевой вес при построении регрессии с l1-регуляризацией (sklearn.linear_model.Lasso). И всегда можно придумать что-то своё=) Попробуйте как минимум 2 различные стратегии, сравните результаты. Помог ли отбор признаков улучшить качество модели? Поясните свой ответ."
   ]
  },
  {
   "cell_type": "markdown",
   "metadata": {},
   "source": [
    "Выше применена следующая стратегия: удаление признаков, у которых пропущено более 70% данных, и дополнительно удаление категориальных признаков, у которых более 50 различных категорий. Попробуем другие стратегии.\n",
    "\n",
    "* Проведем отбор на основе важности признаков через feature_importances_ построенной модели. Удалим признаки с нулевой важностью (среди уже отобранных признаков) и построим модель на новом наборе признаков. "
   ]
  },
  {
   "cell_type": "code",
   "execution_count": 101,
   "metadata": {},
   "outputs": [
    {
     "data": {
      "text/plain": [
       "(18299, 74)"
      ]
     },
     "execution_count": 101,
     "metadata": {},
     "output_type": "execute_result"
    }
   ],
   "source": [
    "X.shape"
   ]
  },
  {
   "cell_type": "code",
   "execution_count": 102,
   "metadata": {},
   "outputs": [],
   "source": [
    "GBclf.fit(X,y)\n",
    "importance = GBclf.feature_importances_\n",
    "importance = pd.DataFrame({\"Feature\": X.columns, \"Importance\": importance}) \n",
    "importance = importance.sort_values(by = importance.columns[1])"
   ]
  },
  {
   "cell_type": "code",
   "execution_count": 103,
   "metadata": {},
   "outputs": [],
   "source": [
    "import_del=[]\n",
    "for i in range(importance.shape[0]):\n",
    "    if importance.Importance[i]==0: import_del.append(importance.Feature[i])"
   ]
  },
  {
   "cell_type": "code",
   "execution_count": 104,
   "metadata": {},
   "outputs": [
    {
     "data": {
      "text/plain": [
       "(18299, 65)"
      ]
     },
     "execution_count": 104,
     "metadata": {},
     "output_type": "execute_result"
    }
   ],
   "source": [
    "X_importance = X.drop(columns=import_del)\n",
    "X_importance.shape"
   ]
  },
  {
   "cell_type": "code",
   "execution_count": 105,
   "metadata": {},
   "outputs": [],
   "source": [
    "X_train, X_test, y_train, y_test = train_test_split(X_importance, y, test_size=0.3, stratify=y, random_state=0)"
   ]
  },
  {
   "cell_type": "code",
   "execution_count": 106,
   "metadata": {},
   "outputs": [
    {
     "data": {
      "text/plain": [
       "0.7239034564914838"
      ]
     },
     "execution_count": 106,
     "metadata": {},
     "output_type": "execute_result"
    }
   ],
   "source": [
    "cross_val_score(GBclf, X_train, y_train, scoring = 'roc_auc', cv=cv_strategy).mean()"
   ]
  },
  {
   "cell_type": "markdown",
   "metadata": {},
   "source": [
    "Качество модели немного улучшилось. "
   ]
  },
  {
   "cell_type": "markdown",
   "metadata": {},
   "source": [
    "* Отбор наиболее связанных с целевой переменной признаков на основе статистического критерия. \n",
    "Применяем к обработанным ранее данным. "
   ]
  },
  {
   "cell_type": "code",
   "execution_count": 178,
   "metadata": {},
   "outputs": [],
   "source": [
    "select = SelectKBest(k=65)\n",
    "select.fit(X, y)\n",
    "X = select.transform(X)"
   ]
  },
  {
   "cell_type": "code",
   "execution_count": 180,
   "metadata": {},
   "outputs": [],
   "source": [
    "X_train, X_test, y_train, y_test = train_test_split(X, y, test_size=0.3, stratify=y, random_state=0)"
   ]
  },
  {
   "cell_type": "code",
   "execution_count": 144,
   "metadata": {},
   "outputs": [
    {
     "data": {
      "text/plain": [
       "0.7268796668212248"
      ]
     },
     "execution_count": 144,
     "metadata": {},
     "output_type": "execute_result"
    }
   ],
   "source": [
    "cross_val_score(GBclf, X_train, y_train, scoring = 'roc_auc', cv=cv_strategy).mean()"
   ]
  },
  {
   "cell_type": "markdown",
   "metadata": {},
   "source": [
    "##### Отбираем 65 наиболее связанных с целевой переменной признаков (Пробовала разные варианты, но с числом признаков, равных 65, модель показала наилучший результат). "
   ]
  },
  {
   "cell_type": "markdown",
   "metadata": {},
   "source": [
    "# 6"
   ]
  },
  {
   "cell_type": "markdown",
   "metadata": {},
   "source": [
    "6\\. Подберите оптимальные параметры модели. Обратите внимание, что в зависимости от того, как вы обработали исходные данные, сделали ли балансировку классов, сколько объектов оставили в обучающей выборке и др. оптимальные значения параметров могут меняться. Возьмите наилучшее из ваших решений на текущий момент и проведите процедуру подбора параметров модели (обратите внимание на `sklearn.model_selection.GridSearchCV`) Как подбор параметров повлиял на качество модели?"
   ]
  },
  {
   "cell_type": "code",
   "execution_count": 159,
   "metadata": {},
   "outputs": [
    {
     "data": {
      "text/plain": [
       "dict_keys(['criterion', 'init', 'learning_rate', 'loss', 'max_depth', 'max_features', 'max_leaf_nodes', 'min_impurity_decrease', 'min_impurity_split', 'min_samples_leaf', 'min_samples_split', 'min_weight_fraction_leaf', 'n_estimators', 'n_iter_no_change', 'presort', 'random_state', 'subsample', 'tol', 'validation_fraction', 'verbose', 'warm_start'])"
      ]
     },
     "execution_count": 159,
     "metadata": {},
     "output_type": "execute_result"
    }
   ],
   "source": [
    "GBclf.get_params().keys()"
   ]
  },
  {
   "cell_type": "code",
   "execution_count": 164,
   "metadata": {},
   "outputs": [],
   "source": [
    "#Случайный поиск параметров по сетке\n",
    "parameters_grid = {'n_estimators' : np.arange(70, 200, 10),\n",
    "                  'learning_rate': np.arange(0.02, 0.12, 0.02),\n",
    "                   'max_depth': np.arange(3, 10),\n",
    "                   'max_features': np.arange(25, 75, 10),\n",
    "                   'subsample': np.arange(0.2, 1.2, 0.2),\n",
    "                  }\n",
    "grid_cv = RandomizedSearchCV(GBclf, parameters_grid, scoring = 'roc_auc', cv = cv_strategy, n_iter=30, n_jobs=-1)\n",
    "\n",
    "#'random_state': np.arange(0, 42)"
   ]
  },
  {
   "cell_type": "code",
   "execution_count": 165,
   "metadata": {},
   "outputs": [
    {
     "name": "stdout",
     "output_type": "stream",
     "text": [
      "Wall time: 0 ns\n",
      "0.7274880824590555\n",
      "{'subsample': 1.0, 'n_estimators': 110, 'max_features': 45, 'max_depth': 3, 'learning_rate': 0.08}\n"
     ]
    }
   ],
   "source": [
    "%time\n",
    "grid_cv.fit(X_train, y_train)  \n",
    "print(grid_cv.best_score_)\n",
    "print(grid_cv.best_params_)"
   ]
  },
  {
   "cell_type": "code",
   "execution_count": 166,
   "metadata": {},
   "outputs": [],
   "source": [
    "#подбор параметров на основе предыдущего отбора\n",
    "parameters = {'n_estimators' : np.arange(100, 130, 10),\n",
    "              'learning_rate': np.arange(0.07, 0.1, 0.01),\n",
    "              'max_depth': np.arange(2, 5),\n",
    "              'max_features': np.arange(35, 65, 10),\n",
    "              'subsample': [1]\n",
    "              }\n",
    "grid_cv = GridSearchCV(GBclf, parameters, scoring='roc_auc', n_jobs=-1, cv=cv_strategy)"
   ]
  },
  {
   "cell_type": "code",
   "execution_count": 167,
   "metadata": {},
   "outputs": [
    {
     "name": "stdout",
     "output_type": "stream",
     "text": [
      "0.731837197957033\n",
      "{'learning_rate': 0.08, 'max_depth': 2, 'max_features': 35, 'n_estimators': 120, 'subsample': 1}\n",
      "Wall time: 10min 52s\n"
     ]
    }
   ],
   "source": [
    "%%time\n",
    "grid_cv.fit(X_train, y_train)\n",
    "print(grid_cv.best_score_)\n",
    "print(grid_cv.best_params_)"
   ]
  },
  {
   "cell_type": "code",
   "execution_count": 181,
   "metadata": {},
   "outputs": [],
   "source": [
    "model_params = {'n_estimators': 120,\n",
    "                'max_depth': 2,\n",
    "                'learning_rate': 0.08,\n",
    "                'max_features': 35,\n",
    "                'subsample': 1\n",
    "                }\n",
    "GBclf = GradientBoostingClassifier(**model_params)"
   ]
  },
  {
   "cell_type": "code",
   "execution_count": 182,
   "metadata": {},
   "outputs": [
    {
     "data": {
      "text/plain": [
       "0.7298722909927525"
      ]
     },
     "execution_count": 182,
     "metadata": {},
     "output_type": "execute_result"
    }
   ],
   "source": [
    "cross_val_score(GBclf, X_train, y_train, scoring = 'roc_auc', cv=cv_strategy).mean()"
   ]
  },
  {
   "cell_type": "markdown",
   "metadata": {},
   "source": [
    "##### За счет подбора параметров качество модели улучшилось"
   ]
  },
  {
   "cell_type": "markdown",
   "metadata": {},
   "source": [
    "# 7"
   ]
  },
  {
   "cell_type": "markdown",
   "metadata": {},
   "source": [
    "7. Предложите методику оценки того, какие признаки внесли наибольший вклад в модель (например, это могут быть веса в случае регрессии, а также большое количество моделей реализуют метод feature_importances_ - оценка важности признаков). На основе предложенной методики проанализируйте, какие признаки внесли больший вклад в модель, а какие меньший?"
   ]
  },
  {
   "cell_type": "code",
   "execution_count": 186,
   "metadata": {},
   "outputs": [
    {
     "data": {
      "text/html": [
       "<div>\n",
       "<style scoped>\n",
       "    .dataframe tbody tr th:only-of-type {\n",
       "        vertical-align: middle;\n",
       "    }\n",
       "\n",
       "    .dataframe tbody tr th {\n",
       "        vertical-align: top;\n",
       "    }\n",
       "\n",
       "    .dataframe thead th {\n",
       "        text-align: right;\n",
       "    }\n",
       "</style>\n",
       "<table border=\"1\" class=\"dataframe\">\n",
       "  <thead>\n",
       "    <tr style=\"text-align: right;\">\n",
       "      <th></th>\n",
       "      <th>Feature</th>\n",
       "      <th>Importance</th>\n",
       "    </tr>\n",
       "  </thead>\n",
       "  <tbody>\n",
       "    <tr>\n",
       "      <th>22</th>\n",
       "      <td>Var113</td>\n",
       "      <td>0.242900</td>\n",
       "    </tr>\n",
       "    <tr>\n",
       "      <th>33</th>\n",
       "      <td>Var160</td>\n",
       "      <td>0.101077</td>\n",
       "    </tr>\n",
       "    <tr>\n",
       "      <th>55</th>\n",
       "      <td>Var217</td>\n",
       "      <td>0.079165</td>\n",
       "    </tr>\n",
       "    <tr>\n",
       "      <th>19</th>\n",
       "      <td>Var94</td>\n",
       "      <td>0.077346</td>\n",
       "    </tr>\n",
       "    <tr>\n",
       "      <th>54</th>\n",
       "      <td>Var216</td>\n",
       "      <td>0.070274</td>\n",
       "    </tr>\n",
       "    <tr>\n",
       "      <th>...</th>\n",
       "      <td>...</td>\n",
       "      <td>...</td>\n",
       "    </tr>\n",
       "    <tr>\n",
       "      <th>23</th>\n",
       "      <td>Var119</td>\n",
       "      <td>0.000000</td>\n",
       "    </tr>\n",
       "    <tr>\n",
       "      <th>1</th>\n",
       "      <td>Var13</td>\n",
       "      <td>0.000000</td>\n",
       "    </tr>\n",
       "    <tr>\n",
       "      <th>31</th>\n",
       "      <td>Var149</td>\n",
       "      <td>0.000000</td>\n",
       "    </tr>\n",
       "    <tr>\n",
       "      <th>30</th>\n",
       "      <td>Var144</td>\n",
       "      <td>0.000000</td>\n",
       "    </tr>\n",
       "    <tr>\n",
       "      <th>64</th>\n",
       "      <td>Var229</td>\n",
       "      <td>0.000000</td>\n",
       "    </tr>\n",
       "  </tbody>\n",
       "</table>\n",
       "<p>65 rows × 2 columns</p>\n",
       "</div>"
      ],
      "text/plain": [
       "   Feature  Importance\n",
       "22  Var113    0.242900\n",
       "33  Var160    0.101077\n",
       "55  Var217    0.079165\n",
       "19   Var94    0.077346\n",
       "54  Var216    0.070274\n",
       "..     ...         ...\n",
       "23  Var119    0.000000\n",
       "1    Var13    0.000000\n",
       "31  Var149    0.000000\n",
       "30  Var144    0.000000\n",
       "64  Var229    0.000000\n",
       "\n",
       "[65 rows x 2 columns]"
      ]
     },
     "execution_count": 186,
     "metadata": {},
     "output_type": "execute_result"
    }
   ],
   "source": [
    "importance = GBclf.feature_importances_\n",
    "importance = pd.DataFrame({\"Feature\": X_importance.columns, \"Importance\": importance}) \n",
    "importance = importance.sort_values(by = importance.columns[1], ascending=False)\n",
    "importance"
   ]
  },
  {
   "cell_type": "markdown",
   "metadata": {},
   "source": [
    "##### В начале выведены признаки, внесшие наибольший вклад в модель, в конце - наименьший"
   ]
  },
  {
   "cell_type": "markdown",
   "metadata": {},
   "source": [
    "# 8"
   ]
  },
  {
   "cell_type": "markdown",
   "metadata": {},
   "source": [
    "8. Напоследок давайте посмотрим на объекты. На каких объектах достигается наибольшая ошибка классификации? Есть ли между этими объектами что-то общее? Видны ли какие-либо закономерности? Предположите, почему наибольшая ошибка достигается именно на этих объектах. В данном случае \"наибольшую\" ошибку можно понимать как отнесение объекта с чужому классу с большой долей уверенности (с высокой вероятностью)."
   ]
  },
  {
   "cell_type": "code",
   "execution_count": 189,
   "metadata": {},
   "outputs": [],
   "source": [
    "GBclf = GradientBoostingClassifier(**model_params, random_state=1)\n",
    "GBclf.fit(X_train, y_train)\n",
    "predictions = GBclf.predict(X_test)"
   ]
  },
  {
   "cell_type": "code",
   "execution_count": 190,
   "metadata": {},
   "outputs": [],
   "source": [
    "bad = [i for i, k in enumerate(zip(predictions, y_test.values)) if k[0]!=k[1]]"
   ]
  },
  {
   "cell_type": "code",
   "execution_count": 202,
   "metadata": {},
   "outputs": [
    {
     "data": {
      "text/html": [
       "<div>\n",
       "<style scoped>\n",
       "    .dataframe tbody tr th:only-of-type {\n",
       "        vertical-align: middle;\n",
       "    }\n",
       "\n",
       "    .dataframe tbody tr th {\n",
       "        vertical-align: top;\n",
       "    }\n",
       "\n",
       "    .dataframe thead th {\n",
       "        text-align: right;\n",
       "    }\n",
       "</style>\n",
       "<table border=\"1\" class=\"dataframe\">\n",
       "  <thead>\n",
       "    <tr style=\"text-align: right;\">\n",
       "      <th></th>\n",
       "      <th>0</th>\n",
       "      <th>1</th>\n",
       "      <th>2</th>\n",
       "      <th>3</th>\n",
       "      <th>4</th>\n",
       "      <th>5</th>\n",
       "      <th>6</th>\n",
       "      <th>7</th>\n",
       "      <th>8</th>\n",
       "      <th>9</th>\n",
       "      <th>...</th>\n",
       "      <th>55</th>\n",
       "      <th>56</th>\n",
       "      <th>57</th>\n",
       "      <th>58</th>\n",
       "      <th>59</th>\n",
       "      <th>60</th>\n",
       "      <th>61</th>\n",
       "      <th>62</th>\n",
       "      <th>63</th>\n",
       "      <th>64</th>\n",
       "    </tr>\n",
       "  </thead>\n",
       "  <tbody>\n",
       "    <tr>\n",
       "      <th>0</th>\n",
       "      <td>1321.124375</td>\n",
       "      <td>6.821836</td>\n",
       "      <td>1253.625278</td>\n",
       "      <td>236.344888</td>\n",
       "      <td>292.660892</td>\n",
       "      <td>4.530059</td>\n",
       "      <td>97.28745</td>\n",
       "      <td>224.440225</td>\n",
       "      <td>0.730775</td>\n",
       "      <td>2.578824e+06</td>\n",
       "      <td>...</td>\n",
       "      <td>14336.0</td>\n",
       "      <td>22917.0</td>\n",
       "      <td>46.0</td>\n",
       "      <td>20929.0</td>\n",
       "      <td>46.0</td>\n",
       "      <td>14781.0</td>\n",
       "      <td>737.0</td>\n",
       "      <td>19908.0</td>\n",
       "      <td>18485.0</td>\n",
       "      <td>16021.0</td>\n",
       "    </tr>\n",
       "    <tr>\n",
       "      <th>1</th>\n",
       "      <td>140.000000</td>\n",
       "      <td>0.000000</td>\n",
       "      <td>0.000000</td>\n",
       "      <td>332.000000</td>\n",
       "      <td>415.000000</td>\n",
       "      <td>4.000000</td>\n",
       "      <td>32.00000</td>\n",
       "      <td>209.120000</td>\n",
       "      <td>0.000000</td>\n",
       "      <td>2.807556e+06</td>\n",
       "      <td>...</td>\n",
       "      <td>13550.0</td>\n",
       "      <td>2898.0</td>\n",
       "      <td>24.0</td>\n",
       "      <td>20929.0</td>\n",
       "      <td>24.0</td>\n",
       "      <td>14781.0</td>\n",
       "      <td>1218.0</td>\n",
       "      <td>19908.0</td>\n",
       "      <td>18485.0</td>\n",
       "      <td>16021.0</td>\n",
       "    </tr>\n",
       "    <tr>\n",
       "      <th>2</th>\n",
       "      <td>3605.000000</td>\n",
       "      <td>28.000000</td>\n",
       "      <td>1636.000000</td>\n",
       "      <td>136.000000</td>\n",
       "      <td>170.000000</td>\n",
       "      <td>0.000000</td>\n",
       "      <td>24.00000</td>\n",
       "      <td>200.000000</td>\n",
       "      <td>0.000000</td>\n",
       "      <td>1.555200e+06</td>\n",
       "      <td>...</td>\n",
       "      <td>13550.0</td>\n",
       "      <td>22917.0</td>\n",
       "      <td>19.0</td>\n",
       "      <td>20929.0</td>\n",
       "      <td>19.0</td>\n",
       "      <td>6285.0</td>\n",
       "      <td>4552.0</td>\n",
       "      <td>19908.0</td>\n",
       "      <td>759.0</td>\n",
       "      <td>6665.0</td>\n",
       "    </tr>\n",
       "    <tr>\n",
       "      <th>3</th>\n",
       "      <td>924.000000</td>\n",
       "      <td>7.000000</td>\n",
       "      <td>440.000000</td>\n",
       "      <td>204.000000</td>\n",
       "      <td>255.000000</td>\n",
       "      <td>0.000000</td>\n",
       "      <td>80.00000</td>\n",
       "      <td>286.960000</td>\n",
       "      <td>0.000000</td>\n",
       "      <td>4.205574e+06</td>\n",
       "      <td>...</td>\n",
       "      <td>14336.0</td>\n",
       "      <td>22917.0</td>\n",
       "      <td>27.0</td>\n",
       "      <td>20929.0</td>\n",
       "      <td>27.0</td>\n",
       "      <td>14781.0</td>\n",
       "      <td>2720.0</td>\n",
       "      <td>19908.0</td>\n",
       "      <td>18485.0</td>\n",
       "      <td>6665.0</td>\n",
       "    </tr>\n",
       "    <tr>\n",
       "      <th>4</th>\n",
       "      <td>0.000000</td>\n",
       "      <td>0.000000</td>\n",
       "      <td>0.000000</td>\n",
       "      <td>8.000000</td>\n",
       "      <td>10.000000</td>\n",
       "      <td>0.000000</td>\n",
       "      <td>0.00000</td>\n",
       "      <td>334.400000</td>\n",
       "      <td>0.000000</td>\n",
       "      <td>0.000000e+00</td>\n",
       "      <td>...</td>\n",
       "      <td>13550.0</td>\n",
       "      <td>22917.0</td>\n",
       "      <td>27.0</td>\n",
       "      <td>20929.0</td>\n",
       "      <td>27.0</td>\n",
       "      <td>14781.0</td>\n",
       "      <td>4552.0</td>\n",
       "      <td>19908.0</td>\n",
       "      <td>18485.0</td>\n",
       "      <td>16021.0</td>\n",
       "    </tr>\n",
       "    <tr>\n",
       "      <th>...</th>\n",
       "      <td>...</td>\n",
       "      <td>...</td>\n",
       "      <td>...</td>\n",
       "      <td>...</td>\n",
       "      <td>...</td>\n",
       "      <td>...</td>\n",
       "      <td>...</td>\n",
       "      <td>...</td>\n",
       "      <td>...</td>\n",
       "      <td>...</td>\n",
       "      <td>...</td>\n",
       "      <td>...</td>\n",
       "      <td>...</td>\n",
       "      <td>...</td>\n",
       "      <td>...</td>\n",
       "      <td>...</td>\n",
       "      <td>...</td>\n",
       "      <td>...</td>\n",
       "      <td>...</td>\n",
       "      <td>...</td>\n",
       "      <td>...</td>\n",
       "    </tr>\n",
       "    <tr>\n",
       "      <th>408</th>\n",
       "      <td>1321.124375</td>\n",
       "      <td>6.821836</td>\n",
       "      <td>1253.625278</td>\n",
       "      <td>236.344888</td>\n",
       "      <td>292.660892</td>\n",
       "      <td>4.530059</td>\n",
       "      <td>97.28745</td>\n",
       "      <td>224.440225</td>\n",
       "      <td>0.730775</td>\n",
       "      <td>2.578824e+06</td>\n",
       "      <td>...</td>\n",
       "      <td>14336.0</td>\n",
       "      <td>22917.0</td>\n",
       "      <td>27.0</td>\n",
       "      <td>20929.0</td>\n",
       "      <td>27.0</td>\n",
       "      <td>14781.0</td>\n",
       "      <td>832.0</td>\n",
       "      <td>19908.0</td>\n",
       "      <td>18485.0</td>\n",
       "      <td>16021.0</td>\n",
       "    </tr>\n",
       "    <tr>\n",
       "      <th>409</th>\n",
       "      <td>252.000000</td>\n",
       "      <td>0.000000</td>\n",
       "      <td>0.000000</td>\n",
       "      <td>480.000000</td>\n",
       "      <td>600.000000</td>\n",
       "      <td>4.000000</td>\n",
       "      <td>280.00000</td>\n",
       "      <td>230.560000</td>\n",
       "      <td>0.000000</td>\n",
       "      <td>4.341006e+06</td>\n",
       "      <td>...</td>\n",
       "      <td>14336.0</td>\n",
       "      <td>22917.0</td>\n",
       "      <td>13.0</td>\n",
       "      <td>20929.0</td>\n",
       "      <td>13.0</td>\n",
       "      <td>14781.0</td>\n",
       "      <td>737.0</td>\n",
       "      <td>19908.0</td>\n",
       "      <td>18485.0</td>\n",
       "      <td>16021.0</td>\n",
       "    </tr>\n",
       "    <tr>\n",
       "      <th>410</th>\n",
       "      <td>1512.000000</td>\n",
       "      <td>7.000000</td>\n",
       "      <td>36.000000</td>\n",
       "      <td>288.000000</td>\n",
       "      <td>360.000000</td>\n",
       "      <td>10.000000</td>\n",
       "      <td>176.00000</td>\n",
       "      <td>166.560000</td>\n",
       "      <td>0.000000</td>\n",
       "      <td>2.094486e+06</td>\n",
       "      <td>...</td>\n",
       "      <td>14336.0</td>\n",
       "      <td>22917.0</td>\n",
       "      <td>1.0</td>\n",
       "      <td>1768.0</td>\n",
       "      <td>1.0</td>\n",
       "      <td>14781.0</td>\n",
       "      <td>2720.0</td>\n",
       "      <td>1331.0</td>\n",
       "      <td>18485.0</td>\n",
       "      <td>16021.0</td>\n",
       "    </tr>\n",
       "    <tr>\n",
       "      <th>411</th>\n",
       "      <td>959.000000</td>\n",
       "      <td>7.000000</td>\n",
       "      <td>392.000000</td>\n",
       "      <td>128.000000</td>\n",
       "      <td>160.000000</td>\n",
       "      <td>0.000000</td>\n",
       "      <td>0.00000</td>\n",
       "      <td>253.520000</td>\n",
       "      <td>0.000000</td>\n",
       "      <td>9.806400e+06</td>\n",
       "      <td>...</td>\n",
       "      <td>13550.0</td>\n",
       "      <td>22917.0</td>\n",
       "      <td>17.0</td>\n",
       "      <td>20929.0</td>\n",
       "      <td>17.0</td>\n",
       "      <td>14781.0</td>\n",
       "      <td>1456.0</td>\n",
       "      <td>19908.0</td>\n",
       "      <td>18485.0</td>\n",
       "      <td>16021.0</td>\n",
       "    </tr>\n",
       "    <tr>\n",
       "      <th>412</th>\n",
       "      <td>868.000000</td>\n",
       "      <td>7.000000</td>\n",
       "      <td>2252.000000</td>\n",
       "      <td>68.000000</td>\n",
       "      <td>85.000000</td>\n",
       "      <td>6.000000</td>\n",
       "      <td>24.00000</td>\n",
       "      <td>166.560000</td>\n",
       "      <td>0.000000</td>\n",
       "      <td>0.000000e+00</td>\n",
       "      <td>...</td>\n",
       "      <td>13550.0</td>\n",
       "      <td>22917.0</td>\n",
       "      <td>25.0</td>\n",
       "      <td>20929.0</td>\n",
       "      <td>25.0</td>\n",
       "      <td>5935.0</td>\n",
       "      <td>1262.0</td>\n",
       "      <td>19908.0</td>\n",
       "      <td>18485.0</td>\n",
       "      <td>6665.0</td>\n",
       "    </tr>\n",
       "  </tbody>\n",
       "</table>\n",
       "<p>413 rows × 65 columns</p>\n",
       "</div>"
      ],
      "text/plain": [
       "              0          1            2           3           4          5   \\\n",
       "0    1321.124375   6.821836  1253.625278  236.344888  292.660892   4.530059   \n",
       "1     140.000000   0.000000     0.000000  332.000000  415.000000   4.000000   \n",
       "2    3605.000000  28.000000  1636.000000  136.000000  170.000000   0.000000   \n",
       "3     924.000000   7.000000   440.000000  204.000000  255.000000   0.000000   \n",
       "4       0.000000   0.000000     0.000000    8.000000   10.000000   0.000000   \n",
       "..           ...        ...          ...         ...         ...        ...   \n",
       "408  1321.124375   6.821836  1253.625278  236.344888  292.660892   4.530059   \n",
       "409   252.000000   0.000000     0.000000  480.000000  600.000000   4.000000   \n",
       "410  1512.000000   7.000000    36.000000  288.000000  360.000000  10.000000   \n",
       "411   959.000000   7.000000   392.000000  128.000000  160.000000   0.000000   \n",
       "412   868.000000   7.000000  2252.000000   68.000000   85.000000   6.000000   \n",
       "\n",
       "            6           7         8             9   ...       55       56  \\\n",
       "0     97.28745  224.440225  0.730775  2.578824e+06  ...  14336.0  22917.0   \n",
       "1     32.00000  209.120000  0.000000  2.807556e+06  ...  13550.0   2898.0   \n",
       "2     24.00000  200.000000  0.000000  1.555200e+06  ...  13550.0  22917.0   \n",
       "3     80.00000  286.960000  0.000000  4.205574e+06  ...  14336.0  22917.0   \n",
       "4      0.00000  334.400000  0.000000  0.000000e+00  ...  13550.0  22917.0   \n",
       "..         ...         ...       ...           ...  ...      ...      ...   \n",
       "408   97.28745  224.440225  0.730775  2.578824e+06  ...  14336.0  22917.0   \n",
       "409  280.00000  230.560000  0.000000  4.341006e+06  ...  14336.0  22917.0   \n",
       "410  176.00000  166.560000  0.000000  2.094486e+06  ...  14336.0  22917.0   \n",
       "411    0.00000  253.520000  0.000000  9.806400e+06  ...  13550.0  22917.0   \n",
       "412   24.00000  166.560000  0.000000  0.000000e+00  ...  13550.0  22917.0   \n",
       "\n",
       "       57       58    59       60      61       62       63       64  \n",
       "0    46.0  20929.0  46.0  14781.0   737.0  19908.0  18485.0  16021.0  \n",
       "1    24.0  20929.0  24.0  14781.0  1218.0  19908.0  18485.0  16021.0  \n",
       "2    19.0  20929.0  19.0   6285.0  4552.0  19908.0    759.0   6665.0  \n",
       "3    27.0  20929.0  27.0  14781.0  2720.0  19908.0  18485.0   6665.0  \n",
       "4    27.0  20929.0  27.0  14781.0  4552.0  19908.0  18485.0  16021.0  \n",
       "..    ...      ...   ...      ...     ...      ...      ...      ...  \n",
       "408  27.0  20929.0  27.0  14781.0   832.0  19908.0  18485.0  16021.0  \n",
       "409  13.0  20929.0  13.0  14781.0   737.0  19908.0  18485.0  16021.0  \n",
       "410   1.0   1768.0   1.0  14781.0  2720.0   1331.0  18485.0  16021.0  \n",
       "411  17.0  20929.0  17.0  14781.0  1456.0  19908.0  18485.0  16021.0  \n",
       "412  25.0  20929.0  25.0   5935.0  1262.0  19908.0  18485.0   6665.0  \n",
       "\n",
       "[413 rows x 65 columns]"
      ]
     },
     "execution_count": 202,
     "metadata": {},
     "output_type": "execute_result"
    }
   ],
   "source": [
    "pd.DataFrame(X_test[bad,:])"
   ]
  },
  {
   "cell_type": "code",
   "execution_count": 194,
   "metadata": {},
   "outputs": [
    {
     "data": {
      "text/plain": [
       " 1.0    409\n",
       "-1.0      4\n",
       "Name: labels, dtype: int64"
      ]
     },
     "execution_count": 194,
     "metadata": {},
     "output_type": "execute_result"
    }
   ],
   "source": [
    "y_test.iloc[bad].value_counts()"
   ]
  },
  {
   "cell_type": "code",
   "execution_count": 204,
   "metadata": {},
   "outputs": [
    {
     "data": {
      "text/html": [
       "<div>\n",
       "<style scoped>\n",
       "    .dataframe tbody tr th:only-of-type {\n",
       "        vertical-align: middle;\n",
       "    }\n",
       "\n",
       "    .dataframe tbody tr th {\n",
       "        vertical-align: top;\n",
       "    }\n",
       "\n",
       "    .dataframe thead th {\n",
       "        text-align: right;\n",
       "    }\n",
       "</style>\n",
       "<table border=\"1\" class=\"dataframe\">\n",
       "  <thead>\n",
       "    <tr style=\"text-align: right;\">\n",
       "      <th></th>\n",
       "      <th>0</th>\n",
       "      <th>1</th>\n",
       "      <th>2</th>\n",
       "      <th>3</th>\n",
       "      <th>4</th>\n",
       "      <th>5</th>\n",
       "      <th>6</th>\n",
       "      <th>7</th>\n",
       "      <th>8</th>\n",
       "      <th>9</th>\n",
       "      <th>...</th>\n",
       "      <th>55</th>\n",
       "      <th>56</th>\n",
       "      <th>57</th>\n",
       "      <th>58</th>\n",
       "      <th>59</th>\n",
       "      <th>60</th>\n",
       "      <th>61</th>\n",
       "      <th>62</th>\n",
       "      <th>63</th>\n",
       "      <th>64</th>\n",
       "    </tr>\n",
       "  </thead>\n",
       "  <tbody>\n",
       "    <tr>\n",
       "      <th>count</th>\n",
       "      <td>413.000000</td>\n",
       "      <td>413.000000</td>\n",
       "      <td>413.000000</td>\n",
       "      <td>413.000000</td>\n",
       "      <td>413.000000</td>\n",
       "      <td>413.000000</td>\n",
       "      <td>413.000000</td>\n",
       "      <td>413.000000</td>\n",
       "      <td>413.000000</td>\n",
       "      <td>4.130000e+02</td>\n",
       "      <td>...</td>\n",
       "      <td>413.000000</td>\n",
       "      <td>413.000000</td>\n",
       "      <td>413.000000</td>\n",
       "      <td>413.000000</td>\n",
       "      <td>413.000000</td>\n",
       "      <td>413.000000</td>\n",
       "      <td>413.000000</td>\n",
       "      <td>413.000000</td>\n",
       "      <td>413.000000</td>\n",
       "      <td>413.000000</td>\n",
       "    </tr>\n",
       "    <tr>\n",
       "      <th>mean</th>\n",
       "      <td>1056.378880</td>\n",
       "      <td>4.899724</td>\n",
       "      <td>739.444334</td>\n",
       "      <td>222.238295</td>\n",
       "      <td>274.721909</td>\n",
       "      <td>3.967902</td>\n",
       "      <td>85.755928</td>\n",
       "      <td>220.337063</td>\n",
       "      <td>0.904079</td>\n",
       "      <td>2.694469e+06</td>\n",
       "      <td>...</td>\n",
       "      <td>13057.927361</td>\n",
       "      <td>19368.595642</td>\n",
       "      <td>133.847458</td>\n",
       "      <td>17873.220339</td>\n",
       "      <td>133.847458</td>\n",
       "      <td>11877.002421</td>\n",
       "      <td>1945.769976</td>\n",
       "      <td>16434.261501</td>\n",
       "      <td>15133.895884</td>\n",
       "      <td>13080.530266</td>\n",
       "    </tr>\n",
       "    <tr>\n",
       "      <th>std</th>\n",
       "      <td>1400.938536</td>\n",
       "      <td>5.182667</td>\n",
       "      <td>1389.380341</td>\n",
       "      <td>365.872904</td>\n",
       "      <td>458.138247</td>\n",
       "      <td>7.965927</td>\n",
       "      <td>143.885408</td>\n",
       "      <td>74.404166</td>\n",
       "      <td>3.370172</td>\n",
       "      <td>2.897820e+06</td>\n",
       "      <td>...</td>\n",
       "      <td>3303.363296</td>\n",
       "      <td>7809.938694</td>\n",
       "      <td>459.130931</td>\n",
       "      <td>6908.466404</td>\n",
       "      <td>459.130931</td>\n",
       "      <td>4274.744694</td>\n",
       "      <td>1385.310132</td>\n",
       "      <td>7055.216443</td>\n",
       "      <td>6907.362623</td>\n",
       "      <td>4530.423679</td>\n",
       "    </tr>\n",
       "    <tr>\n",
       "      <th>min</th>\n",
       "      <td>0.000000</td>\n",
       "      <td>0.000000</td>\n",
       "      <td>0.000000</td>\n",
       "      <td>0.000000</td>\n",
       "      <td>0.000000</td>\n",
       "      <td>0.000000</td>\n",
       "      <td>0.000000</td>\n",
       "      <td>0.000000</td>\n",
       "      <td>0.000000</td>\n",
       "      <td>0.000000e+00</td>\n",
       "      <td>...</td>\n",
       "      <td>413.000000</td>\n",
       "      <td>153.000000</td>\n",
       "      <td>1.000000</td>\n",
       "      <td>152.000000</td>\n",
       "      <td>1.000000</td>\n",
       "      <td>1298.000000</td>\n",
       "      <td>206.000000</td>\n",
       "      <td>336.000000</td>\n",
       "      <td>3.000000</td>\n",
       "      <td>5568.000000</td>\n",
       "    </tr>\n",
       "    <tr>\n",
       "      <th>25%</th>\n",
       "      <td>329.000000</td>\n",
       "      <td>0.000000</td>\n",
       "      <td>0.000000</td>\n",
       "      <td>116.000000</td>\n",
       "      <td>135.000000</td>\n",
       "      <td>0.000000</td>\n",
       "      <td>8.000000</td>\n",
       "      <td>176.560000</td>\n",
       "      <td>0.000000</td>\n",
       "      <td>3.742200e+04</td>\n",
       "      <td>...</td>\n",
       "      <td>13550.000000</td>\n",
       "      <td>22917.000000</td>\n",
       "      <td>14.000000</td>\n",
       "      <td>20929.000000</td>\n",
       "      <td>14.000000</td>\n",
       "      <td>6285.000000</td>\n",
       "      <td>814.000000</td>\n",
       "      <td>19908.000000</td>\n",
       "      <td>18485.000000</td>\n",
       "      <td>6665.000000</td>\n",
       "    </tr>\n",
       "    <tr>\n",
       "      <th>50%</th>\n",
       "      <td>784.000000</td>\n",
       "      <td>6.821836</td>\n",
       "      <td>60.000000</td>\n",
       "      <td>148.000000</td>\n",
       "      <td>180.000000</td>\n",
       "      <td>2.000000</td>\n",
       "      <td>48.000000</td>\n",
       "      <td>220.080000</td>\n",
       "      <td>0.000000</td>\n",
       "      <td>2.409168e+06</td>\n",
       "      <td>...</td>\n",
       "      <td>13550.000000</td>\n",
       "      <td>22917.000000</td>\n",
       "      <td>26.000000</td>\n",
       "      <td>20929.000000</td>\n",
       "      <td>26.000000</td>\n",
       "      <td>14781.000000</td>\n",
       "      <td>1456.000000</td>\n",
       "      <td>19908.000000</td>\n",
       "      <td>18485.000000</td>\n",
       "      <td>16021.000000</td>\n",
       "    </tr>\n",
       "    <tr>\n",
       "      <th>75%</th>\n",
       "      <td>1321.124375</td>\n",
       "      <td>7.000000</td>\n",
       "      <td>1253.625278</td>\n",
       "      <td>236.344888</td>\n",
       "      <td>292.660892</td>\n",
       "      <td>4.530059</td>\n",
       "      <td>97.287450</td>\n",
       "      <td>254.640000</td>\n",
       "      <td>0.000000</td>\n",
       "      <td>4.205574e+06</td>\n",
       "      <td>...</td>\n",
       "      <td>14336.000000</td>\n",
       "      <td>22917.000000</td>\n",
       "      <td>40.000000</td>\n",
       "      <td>20929.000000</td>\n",
       "      <td>40.000000</td>\n",
       "      <td>14781.000000</td>\n",
       "      <td>2720.000000</td>\n",
       "      <td>19908.000000</td>\n",
       "      <td>18485.000000</td>\n",
       "      <td>16021.000000</td>\n",
       "    </tr>\n",
       "    <tr>\n",
       "      <th>max</th>\n",
       "      <td>14798.000000</td>\n",
       "      <td>28.000000</td>\n",
       "      <td>10524.000000</td>\n",
       "      <td>4388.000000</td>\n",
       "      <td>5485.000000</td>\n",
       "      <td>122.000000</td>\n",
       "      <td>1680.000000</td>\n",
       "      <td>525.760000</td>\n",
       "      <td>30.000000</td>\n",
       "      <td>1.451520e+07</td>\n",
       "      <td>...</td>\n",
       "      <td>14336.000000</td>\n",
       "      <td>22917.000000</td>\n",
       "      <td>2534.000000</td>\n",
       "      <td>20929.000000</td>\n",
       "      <td>2534.000000</td>\n",
       "      <td>14781.000000</td>\n",
       "      <td>4552.000000</td>\n",
       "      <td>19908.000000</td>\n",
       "      <td>18485.000000</td>\n",
       "      <td>16021.000000</td>\n",
       "    </tr>\n",
       "  </tbody>\n",
       "</table>\n",
       "<p>8 rows × 65 columns</p>\n",
       "</div>"
      ],
      "text/plain": [
       "                 0           1             2            3            4   \\\n",
       "count    413.000000  413.000000    413.000000   413.000000   413.000000   \n",
       "mean    1056.378880    4.899724    739.444334   222.238295   274.721909   \n",
       "std     1400.938536    5.182667   1389.380341   365.872904   458.138247   \n",
       "min        0.000000    0.000000      0.000000     0.000000     0.000000   \n",
       "25%      329.000000    0.000000      0.000000   116.000000   135.000000   \n",
       "50%      784.000000    6.821836     60.000000   148.000000   180.000000   \n",
       "75%     1321.124375    7.000000   1253.625278   236.344888   292.660892   \n",
       "max    14798.000000   28.000000  10524.000000  4388.000000  5485.000000   \n",
       "\n",
       "               5            6           7           8             9   ...  \\\n",
       "count  413.000000   413.000000  413.000000  413.000000  4.130000e+02  ...   \n",
       "mean     3.967902    85.755928  220.337063    0.904079  2.694469e+06  ...   \n",
       "std      7.965927   143.885408   74.404166    3.370172  2.897820e+06  ...   \n",
       "min      0.000000     0.000000    0.000000    0.000000  0.000000e+00  ...   \n",
       "25%      0.000000     8.000000  176.560000    0.000000  3.742200e+04  ...   \n",
       "50%      2.000000    48.000000  220.080000    0.000000  2.409168e+06  ...   \n",
       "75%      4.530059    97.287450  254.640000    0.000000  4.205574e+06  ...   \n",
       "max    122.000000  1680.000000  525.760000   30.000000  1.451520e+07  ...   \n",
       "\n",
       "                 55            56           57            58           59  \\\n",
       "count    413.000000    413.000000   413.000000    413.000000   413.000000   \n",
       "mean   13057.927361  19368.595642   133.847458  17873.220339   133.847458   \n",
       "std     3303.363296   7809.938694   459.130931   6908.466404   459.130931   \n",
       "min      413.000000    153.000000     1.000000    152.000000     1.000000   \n",
       "25%    13550.000000  22917.000000    14.000000  20929.000000    14.000000   \n",
       "50%    13550.000000  22917.000000    26.000000  20929.000000    26.000000   \n",
       "75%    14336.000000  22917.000000    40.000000  20929.000000    40.000000   \n",
       "max    14336.000000  22917.000000  2534.000000  20929.000000  2534.000000   \n",
       "\n",
       "                 60           61            62            63            64  \n",
       "count    413.000000   413.000000    413.000000    413.000000    413.000000  \n",
       "mean   11877.002421  1945.769976  16434.261501  15133.895884  13080.530266  \n",
       "std     4274.744694  1385.310132   7055.216443   6907.362623   4530.423679  \n",
       "min     1298.000000   206.000000    336.000000      3.000000   5568.000000  \n",
       "25%     6285.000000   814.000000  19908.000000  18485.000000   6665.000000  \n",
       "50%    14781.000000  1456.000000  19908.000000  18485.000000  16021.000000  \n",
       "75%    14781.000000  2720.000000  19908.000000  18485.000000  16021.000000  \n",
       "max    14781.000000  4552.000000  19908.000000  18485.000000  16021.000000  \n",
       "\n",
       "[8 rows x 65 columns]"
      ]
     },
     "execution_count": 204,
     "metadata": {},
     "output_type": "execute_result"
    }
   ],
   "source": [
    "pd.DataFrame(X_test[bad,:]).describe()"
   ]
  },
  {
   "cell_type": "markdown",
   "metadata": {},
   "source": [
    "##### Сложно однозначно сказать, почему ошибка достигается именно на данных объектах, возможно они являются выбросами. Также мы видим, что модель намного чаще совершает ошибку на объектах класса \"отток\", то есть страдает полнота модели, модель пропускает клиентов, которые собираются от нас уйти. "
   ]
  },
  {
   "cell_type": "markdown",
   "metadata": {},
   "source": [
    "# 9"
   ]
  },
  {
   "cell_type": "markdown",
   "metadata": {},
   "source": [
    "9. По итогам проведенных экспериментов постройте финальную решение - модель с наилучшим качеством. Укажите, какие преобразования данных, параметры и пр. вы выбрали для построения финальной модели."
   ]
  },
  {
   "cell_type": "markdown",
   "metadata": {},
   "source": [
    "##### Обработка данных: удаление признаков, у которых пропущено более 70% информации; заполнение пропусков у числовых признаков средним значением; кодировка категориальных признаков числом входящих в категорию объектов; отбор 65 наиболее важных признаков. Модель GradientBoostingClassifier. Параметры модели: model_params = {'n_estimators': 120, 'max_depth': 2, 'learning_rate': 0.08, 'max_features': 35, 'subsample': 1 }"
   ]
  },
  {
   "cell_type": "markdown",
   "metadata": {},
   "source": [
    "# 10"
   ]
  },
  {
   "cell_type": "markdown",
   "metadata": {},
   "source": [
    "10. Подумайте, можно ли еще улучшить модель? Что для этого можно сделать?"
   ]
  },
  {
   "cell_type": "markdown",
   "metadata": {},
   "source": [
    "##### Можно попробовать другие варианты отбора признаков в сочетании с разными кодировками категориальных признаков и заполнением пропусков. Cледует попробовать удалить выбросы из обучающей выборки."
   ]
  }
 ],
 "metadata": {
  "kernelspec": {
   "display_name": "Python 3",
   "language": "python",
   "name": "python3"
  },
  "language_info": {
   "codemirror_mode": {
    "name": "ipython",
    "version": 3
   },
   "file_extension": ".py",
   "mimetype": "text/x-python",
   "name": "python",
   "nbconvert_exporter": "python",
   "pygments_lexer": "ipython3",
   "version": "3.7.0"
  }
 },
 "nbformat": 4,
 "nbformat_minor": 2
}

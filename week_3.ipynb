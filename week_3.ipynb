{
 "cells": [
  {
   "cell_type": "markdown",
   "metadata": {},
   "source": [
    "## WEEK 3. Построение baseline-решений"
   ]
  },
  {
   "cell_type": "markdown",
   "metadata": {},
   "source": [
    "В этом задании вам предстоит построить несколько моделей и оценить их качество. Эти модели будут служить нам в качестве baseline-решений и пригодятся сразу для нескольких задач:\n",
    "\n",
    "1. Во-первых, на разработку baseline-модели не должно уходить много времени (это требование исходит из оценок затрат на проект в целом - большую часть времени все же нужно потратить на основное решение), процесс должен быть простым, на подавляющем большинстве этапов должны использоваться готовые протестированные инструменты.  Все это приводит к тому, что baseline-модели - это дешевый способ сделать грубую оценку потенциально возможного качества модели, при построении которого вероятность допущения ошибок относительно невелика.\n",
    "2. Во-вторых, использование моделей разного типа при построении baseline'ов позволяет на раннем этапе сделать предположения о том, какие подходы являются наиболее перспективными и приоритизировать дальнейшие эксперименты.\n",
    "3. Наличие baseline-моделей позволяет оценить, какой прирост качества дают различные преобразования, усложнения, оптимизации и прочие активности, которые вы предпринимаете для построения финального решения.\n",
    "4. Наконец, если после построение сложного решения оценка его качества будет очень сильно отличаться от оценки качества baseline-моделей, то это будет хорошим поводом поискать в решении ошибки."
   ]
  },
  {
   "cell_type": "markdown",
   "metadata": {},
   "source": [
    "## Задание"
   ]
  },
  {
   "cell_type": "markdown",
   "metadata": {},
   "source": [
    "Обучите 3 разные baseline-модели на полученных наборах данных и оцените их качество. На прошлой неделе вы выбрали методику оценки качества моделей на основе кросс-валидации, а также основную и вспомогательные метрики. Оцените с их помощью получившуюся модель. Обратите внимание, что под разными моделями понимаются именно разные алгоритмы классификации. Например, 2 модели, реализующие метод k ближайших соседей с разными k, будут считаться одним baseline-решением (хотя и с разными параметрами). Напоминаем, что отложенная выборка (hold-out dataset) не должна использоваться для построения baseline-моделей!"
   ]
  },
  {
   "cell_type": "code",
   "execution_count": 7,
   "metadata": {},
   "outputs": [],
   "source": [
    "import pandas as pd\n",
    "import numpy as np\n",
    "import collections\n",
    "import scipy\n",
    "from scipy import stats\n",
    "import seaborn as sns\n",
    "import random\n",
    "from matplotlib import pyplot as plt\n",
    "from sklearn import model_selection, linear_model, metrics, ensemble\n",
    "from sklearn.preprocessing import StandardScaler\n",
    "from sklearn.pipeline import Pipeline\n",
    "%matplotlib inline\n",
    "\n",
    "import warnings\n",
    "warnings.filterwarnings('ignore')"
   ]
  },
  {
   "cell_type": "markdown",
   "metadata": {},
   "source": [
    "## I. Подготовка данных"
   ]
  },
  {
   "cell_type": "code",
   "execution_count": 8,
   "metadata": {},
   "outputs": [
    {
     "data": {
      "text/html": [
       "<div>\n",
       "<style scoped>\n",
       "    .dataframe tbody tr th:only-of-type {\n",
       "        vertical-align: middle;\n",
       "    }\n",
       "\n",
       "    .dataframe tbody tr th {\n",
       "        vertical-align: top;\n",
       "    }\n",
       "\n",
       "    .dataframe thead th {\n",
       "        text-align: right;\n",
       "    }\n",
       "</style>\n",
       "<table border=\"1\" class=\"dataframe\">\n",
       "  <thead>\n",
       "    <tr style=\"text-align: right;\">\n",
       "      <th></th>\n",
       "      <th>Var1</th>\n",
       "      <th>Var2</th>\n",
       "      <th>Var3</th>\n",
       "      <th>Var4</th>\n",
       "      <th>Var5</th>\n",
       "      <th>Var6</th>\n",
       "      <th>Var7</th>\n",
       "      <th>Var8</th>\n",
       "      <th>Var9</th>\n",
       "      <th>Var10</th>\n",
       "      <th>...</th>\n",
       "      <th>Var222</th>\n",
       "      <th>Var223</th>\n",
       "      <th>Var224</th>\n",
       "      <th>Var225</th>\n",
       "      <th>Var226</th>\n",
       "      <th>Var227</th>\n",
       "      <th>Var228</th>\n",
       "      <th>Var229</th>\n",
       "      <th>Var230</th>\n",
       "      <th>Labels</th>\n",
       "    </tr>\n",
       "  </thead>\n",
       "  <tbody>\n",
       "    <tr>\n",
       "      <th>0</th>\n",
       "      <td>NaN</td>\n",
       "      <td>NaN</td>\n",
       "      <td>NaN</td>\n",
       "      <td>NaN</td>\n",
       "      <td>NaN</td>\n",
       "      <td>3052</td>\n",
       "      <td>NaN</td>\n",
       "      <td>NaN</td>\n",
       "      <td>NaN</td>\n",
       "      <td>NaN</td>\n",
       "      <td>...</td>\n",
       "      <td>vr93T2a</td>\n",
       "      <td>LM8l689qOp</td>\n",
       "      <td>NaN</td>\n",
       "      <td>NaN</td>\n",
       "      <td>fKCe</td>\n",
       "      <td>02N6s8f</td>\n",
       "      <td>xwM2aC7IdeMC0</td>\n",
       "      <td>NaN</td>\n",
       "      <td>NaN</td>\n",
       "      <td>-1</td>\n",
       "    </tr>\n",
       "    <tr>\n",
       "      <th>1</th>\n",
       "      <td>NaN</td>\n",
       "      <td>NaN</td>\n",
       "      <td>NaN</td>\n",
       "      <td>NaN</td>\n",
       "      <td>NaN</td>\n",
       "      <td>1813</td>\n",
       "      <td>7</td>\n",
       "      <td>NaN</td>\n",
       "      <td>NaN</td>\n",
       "      <td>NaN</td>\n",
       "      <td>...</td>\n",
       "      <td>6hQ9lNX</td>\n",
       "      <td>LM8l689qOp</td>\n",
       "      <td>NaN</td>\n",
       "      <td>ELof</td>\n",
       "      <td>xb3V</td>\n",
       "      <td>RAYp</td>\n",
       "      <td>55YFVY9</td>\n",
       "      <td>mj86</td>\n",
       "      <td>NaN</td>\n",
       "      <td>-1</td>\n",
       "    </tr>\n",
       "    <tr>\n",
       "      <th>2</th>\n",
       "      <td>NaN</td>\n",
       "      <td>NaN</td>\n",
       "      <td>NaN</td>\n",
       "      <td>NaN</td>\n",
       "      <td>NaN</td>\n",
       "      <td>1953</td>\n",
       "      <td>7</td>\n",
       "      <td>NaN</td>\n",
       "      <td>NaN</td>\n",
       "      <td>NaN</td>\n",
       "      <td>...</td>\n",
       "      <td>catzS2D</td>\n",
       "      <td>LM8l689qOp</td>\n",
       "      <td>NaN</td>\n",
       "      <td>NaN</td>\n",
       "      <td>FSa2</td>\n",
       "      <td>ZI9m</td>\n",
       "      <td>ib5G6X1eUxUn6</td>\n",
       "      <td>mj86</td>\n",
       "      <td>NaN</td>\n",
       "      <td>-1</td>\n",
       "    </tr>\n",
       "    <tr>\n",
       "      <th>3</th>\n",
       "      <td>NaN</td>\n",
       "      <td>NaN</td>\n",
       "      <td>NaN</td>\n",
       "      <td>NaN</td>\n",
       "      <td>NaN</td>\n",
       "      <td>1533</td>\n",
       "      <td>7</td>\n",
       "      <td>NaN</td>\n",
       "      <td>NaN</td>\n",
       "      <td>NaN</td>\n",
       "      <td>...</td>\n",
       "      <td>e4lqvY0</td>\n",
       "      <td>LM8l689qOp</td>\n",
       "      <td>NaN</td>\n",
       "      <td>NaN</td>\n",
       "      <td>xb3V</td>\n",
       "      <td>RAYp</td>\n",
       "      <td>F2FyR07IdsN7I</td>\n",
       "      <td>NaN</td>\n",
       "      <td>NaN</td>\n",
       "      <td>1</td>\n",
       "    </tr>\n",
       "    <tr>\n",
       "      <th>4</th>\n",
       "      <td>NaN</td>\n",
       "      <td>NaN</td>\n",
       "      <td>NaN</td>\n",
       "      <td>NaN</td>\n",
       "      <td>NaN</td>\n",
       "      <td>686</td>\n",
       "      <td>7</td>\n",
       "      <td>NaN</td>\n",
       "      <td>NaN</td>\n",
       "      <td>NaN</td>\n",
       "      <td>...</td>\n",
       "      <td>MAz3HNj</td>\n",
       "      <td>LM8l689qOp</td>\n",
       "      <td>NaN</td>\n",
       "      <td>NaN</td>\n",
       "      <td>WqMG</td>\n",
       "      <td>RAYp</td>\n",
       "      <td>F2FyR07IdsN7I</td>\n",
       "      <td>NaN</td>\n",
       "      <td>NaN</td>\n",
       "      <td>-1</td>\n",
       "    </tr>\n",
       "  </tbody>\n",
       "</table>\n",
       "<p>5 rows × 231 columns</p>\n",
       "</div>"
      ],
      "text/plain": [
       "  Var1 Var2 Var3 Var4 Var5  Var6 Var7 Var8 Var9 Var10  ...   Var222  \\\n",
       "0  NaN  NaN  NaN  NaN  NaN  3052  NaN  NaN  NaN   NaN  ...  vr93T2a   \n",
       "1  NaN  NaN  NaN  NaN  NaN  1813    7  NaN  NaN   NaN  ...  6hQ9lNX   \n",
       "2  NaN  NaN  NaN  NaN  NaN  1953    7  NaN  NaN   NaN  ...  catzS2D   \n",
       "3  NaN  NaN  NaN  NaN  NaN  1533    7  NaN  NaN   NaN  ...  e4lqvY0   \n",
       "4  NaN  NaN  NaN  NaN  NaN   686    7  NaN  NaN   NaN  ...  MAz3HNj   \n",
       "\n",
       "       Var223 Var224 Var225 Var226   Var227         Var228 Var229 Var230  \\\n",
       "0  LM8l689qOp    NaN    NaN   fKCe  02N6s8f  xwM2aC7IdeMC0    NaN    NaN   \n",
       "1  LM8l689qOp    NaN   ELof   xb3V     RAYp        55YFVY9   mj86    NaN   \n",
       "2  LM8l689qOp    NaN    NaN   FSa2     ZI9m  ib5G6X1eUxUn6   mj86    NaN   \n",
       "3  LM8l689qOp    NaN    NaN   xb3V     RAYp  F2FyR07IdsN7I    NaN    NaN   \n",
       "4  LM8l689qOp    NaN    NaN   WqMG     RAYp  F2FyR07IdsN7I    NaN    NaN   \n",
       "\n",
       "  Labels  \n",
       "0     -1  \n",
       "1     -1  \n",
       "2     -1  \n",
       "3      1  \n",
       "4     -1  \n",
       "\n",
       "[5 rows x 231 columns]"
      ]
     },
     "execution_count": 8,
     "metadata": {},
     "output_type": "execute_result"
    }
   ],
   "source": [
    "X = pd.read_csv('orange_small_churn_data.txt', header=0, sep=',')\n",
    "y = pd.read_csv('orange_small_churn_labels.txt', header=None, names=['Labels'], sep=',')\n",
    "\n",
    "#Создаем общую таблицу\n",
    "data = pd.DataFrame(np.hstack((X,y)), columns = list(X.columns) + list(y.columns))\n",
    "data.head()"
   ]
  },
  {
   "cell_type": "markdown",
   "metadata": {},
   "source": [
    "### Удаление пустых столбцов и обработка пропусков"
   ]
  },
  {
   "cell_type": "code",
   "execution_count": 9,
   "metadata": {},
   "outputs": [],
   "source": [
    "X_del = X.iloc[:, 0:190].dropna(axis = 1, thresh=1)  #удаляем пустые столбцы у числовых признаков (останется 174 признака)\n",
    "X_zero = X_del.fillna(0)                             #заполняем пропуски нулями\n",
    "X_mean = X_del.fillna(X_del.mean())                  #заполняем пропуски средним значением по столбцу"
   ]
  },
  {
   "cell_type": "code",
   "execution_count": 10,
   "metadata": {},
   "outputs": [
    {
     "name": "stdout",
     "output_type": "stream",
     "text": [
      "False\n"
     ]
    }
   ],
   "source": [
    "#Проверим есть ли строка \"Na\" среди знач-й категор.приз-ов. Если нет, то заполним пропуски словом \"Na\"\n",
    "print ('Na' in X.iloc[:, 190:].values)"
   ]
  },
  {
   "cell_type": "code",
   "execution_count": 11,
   "metadata": {},
   "outputs": [],
   "source": [
    "X_cat = X.iloc[:, 190:].dropna(axis = 1, thresh=1)     #удаляем пустые столбцы у категориальных признаков (останется 38 приз-ов)\n",
    "X_cat=X_cat.fillna('Na', axis=0).applymap(str)         #приводим все значения к строковым и заполняем пропуски строкой \"Na\""
   ]
  },
  {
   "cell_type": "markdown",
   "metadata": {},
   "source": [
    "### Обработка категориальных признаков"
   ]
  },
  {
   "cell_type": "markdown",
   "metadata": {},
   "source": [
    "Заменим каждую категорию числом входящих в неё объектов. Код: data[newfeature]=data[feature].map(data.groupby(feature).size())."
   ]
  },
  {
   "cell_type": "code",
   "execution_count": 12,
   "metadata": {},
   "outputs": [
    {
     "data": {
      "text/html": [
       "<div>\n",
       "<style scoped>\n",
       "    .dataframe tbody tr th:only-of-type {\n",
       "        vertical-align: middle;\n",
       "    }\n",
       "\n",
       "    .dataframe tbody tr th {\n",
       "        vertical-align: top;\n",
       "    }\n",
       "\n",
       "    .dataframe thead th {\n",
       "        text-align: right;\n",
       "    }\n",
       "</style>\n",
       "<table border=\"1\" class=\"dataframe\">\n",
       "  <thead>\n",
       "    <tr style=\"text-align: right;\">\n",
       "      <th></th>\n",
       "      <th>Var191</th>\n",
       "      <th>Var192</th>\n",
       "      <th>Var193</th>\n",
       "      <th>Var194</th>\n",
       "      <th>Var195</th>\n",
       "      <th>Var196</th>\n",
       "      <th>Var197</th>\n",
       "      <th>Var198</th>\n",
       "      <th>Var199</th>\n",
       "      <th>Var200</th>\n",
       "      <th>...</th>\n",
       "      <th>Var220</th>\n",
       "      <th>Var221</th>\n",
       "      <th>Var222</th>\n",
       "      <th>Var223</th>\n",
       "      <th>Var224</th>\n",
       "      <th>Var225</th>\n",
       "      <th>Var226</th>\n",
       "      <th>Var227</th>\n",
       "      <th>Var228</th>\n",
       "      <th>Var229</th>\n",
       "    </tr>\n",
       "  </thead>\n",
       "  <tbody>\n",
       "    <tr>\n",
       "      <th>0</th>\n",
       "      <td>39129</td>\n",
       "      <td>222</td>\n",
       "      <td>1763</td>\n",
       "      <td>29810</td>\n",
       "      <td>38353</td>\n",
       "      <td>39633</td>\n",
       "      <td>96</td>\n",
       "      <td>3</td>\n",
       "      <td>46</td>\n",
       "      <td>20366</td>\n",
       "      <td>...</td>\n",
       "      <td>3</td>\n",
       "      <td>1344</td>\n",
       "      <td>3</td>\n",
       "      <td>29279</td>\n",
       "      <td>39338</td>\n",
       "      <td>20935</td>\n",
       "      <td>2117</td>\n",
       "      <td>1896</td>\n",
       "      <td>1193</td>\n",
       "      <td>22777</td>\n",
       "    </tr>\n",
       "    <tr>\n",
       "      <th>1</th>\n",
       "      <td>39129</td>\n",
       "      <td>298</td>\n",
       "      <td>5781</td>\n",
       "      <td>29810</td>\n",
       "      <td>38353</td>\n",
       "      <td>39633</td>\n",
       "      <td>273</td>\n",
       "      <td>1</td>\n",
       "      <td>240</td>\n",
       "      <td>1</td>\n",
       "      <td>...</td>\n",
       "      <td>1</td>\n",
       "      <td>29610</td>\n",
       "      <td>1</td>\n",
       "      <td>29279</td>\n",
       "      <td>39338</td>\n",
       "      <td>8875</td>\n",
       "      <td>1692</td>\n",
       "      <td>28112</td>\n",
       "      <td>3457</td>\n",
       "      <td>7850</td>\n",
       "    </tr>\n",
       "    <tr>\n",
       "      <th>2</th>\n",
       "      <td>39129</td>\n",
       "      <td>274</td>\n",
       "      <td>349</td>\n",
       "      <td>29810</td>\n",
       "      <td>38353</td>\n",
       "      <td>39633</td>\n",
       "      <td>3334</td>\n",
       "      <td>3557</td>\n",
       "      <td>119</td>\n",
       "      <td>20366</td>\n",
       "      <td>...</td>\n",
       "      <td>3557</td>\n",
       "      <td>4960</td>\n",
       "      <td>3557</td>\n",
       "      <td>29279</td>\n",
       "      <td>39338</td>\n",
       "      <td>20935</td>\n",
       "      <td>6403</td>\n",
       "      <td>4928</td>\n",
       "      <td>2111</td>\n",
       "      <td>7850</td>\n",
       "    </tr>\n",
       "  </tbody>\n",
       "</table>\n",
       "<p>3 rows × 38 columns</p>\n",
       "</div>"
      ],
      "text/plain": [
       "   Var191  Var192  Var193  Var194  Var195  Var196  Var197  Var198  Var199  \\\n",
       "0   39129     222    1763   29810   38353   39633      96       3      46   \n",
       "1   39129     298    5781   29810   38353   39633     273       1     240   \n",
       "2   39129     274     349   29810   38353   39633    3334    3557     119   \n",
       "\n",
       "   Var200  ...  Var220  Var221  Var222  Var223  Var224  Var225  Var226  \\\n",
       "0   20366  ...       3    1344       3   29279   39338   20935    2117   \n",
       "1       1  ...       1   29610       1   29279   39338    8875    1692   \n",
       "2   20366  ...    3557    4960    3557   29279   39338   20935    6403   \n",
       "\n",
       "   Var227  Var228  Var229  \n",
       "0    1896    1193   22777  \n",
       "1   28112    3457    7850  \n",
       "2    4928    2111    7850  \n",
       "\n",
       "[3 rows x 38 columns]"
      ]
     },
     "execution_count": 12,
     "metadata": {},
     "output_type": "execute_result"
    }
   ],
   "source": [
    "for j in range(X_cat.shape[1]):\n",
    "    X_cat.iloc[:,j] = X_cat.iloc[:,j].map(X_cat.groupby(X_cat.columns[j]).size())\n",
    "X_cat.head(3)"
   ]
  },
  {
   "cell_type": "code",
   "execution_count": 13,
   "metadata": {},
   "outputs": [
    {
     "data": {
      "text/html": [
       "<div>\n",
       "<style scoped>\n",
       "    .dataframe tbody tr th:only-of-type {\n",
       "        vertical-align: middle;\n",
       "    }\n",
       "\n",
       "    .dataframe tbody tr th {\n",
       "        vertical-align: top;\n",
       "    }\n",
       "\n",
       "    .dataframe thead th {\n",
       "        text-align: right;\n",
       "    }\n",
       "</style>\n",
       "<table border=\"1\" class=\"dataframe\">\n",
       "  <thead>\n",
       "    <tr style=\"text-align: right;\">\n",
       "      <th></th>\n",
       "      <th>Var1</th>\n",
       "      <th>Var2</th>\n",
       "      <th>Var3</th>\n",
       "      <th>Var4</th>\n",
       "      <th>Var5</th>\n",
       "      <th>Var6</th>\n",
       "      <th>Var7</th>\n",
       "      <th>Var9</th>\n",
       "      <th>Var10</th>\n",
       "      <th>Var11</th>\n",
       "      <th>...</th>\n",
       "      <th>Var220</th>\n",
       "      <th>Var221</th>\n",
       "      <th>Var222</th>\n",
       "      <th>Var223</th>\n",
       "      <th>Var224</th>\n",
       "      <th>Var225</th>\n",
       "      <th>Var226</th>\n",
       "      <th>Var227</th>\n",
       "      <th>Var228</th>\n",
       "      <th>Var229</th>\n",
       "    </tr>\n",
       "  </thead>\n",
       "  <tbody>\n",
       "    <tr>\n",
       "      <th>0</th>\n",
       "      <td>0.0</td>\n",
       "      <td>0.0</td>\n",
       "      <td>0.0</td>\n",
       "      <td>0.0</td>\n",
       "      <td>0.0</td>\n",
       "      <td>3052.0</td>\n",
       "      <td>0.0</td>\n",
       "      <td>0.0</td>\n",
       "      <td>0.0</td>\n",
       "      <td>0.0</td>\n",
       "      <td>...</td>\n",
       "      <td>3.0</td>\n",
       "      <td>1344.0</td>\n",
       "      <td>3.0</td>\n",
       "      <td>29279.0</td>\n",
       "      <td>39338.0</td>\n",
       "      <td>20935.0</td>\n",
       "      <td>2117.0</td>\n",
       "      <td>1896.0</td>\n",
       "      <td>1193.0</td>\n",
       "      <td>22777.0</td>\n",
       "    </tr>\n",
       "    <tr>\n",
       "      <th>1</th>\n",
       "      <td>0.0</td>\n",
       "      <td>0.0</td>\n",
       "      <td>0.0</td>\n",
       "      <td>0.0</td>\n",
       "      <td>0.0</td>\n",
       "      <td>1813.0</td>\n",
       "      <td>7.0</td>\n",
       "      <td>0.0</td>\n",
       "      <td>0.0</td>\n",
       "      <td>0.0</td>\n",
       "      <td>...</td>\n",
       "      <td>1.0</td>\n",
       "      <td>29610.0</td>\n",
       "      <td>1.0</td>\n",
       "      <td>29279.0</td>\n",
       "      <td>39338.0</td>\n",
       "      <td>8875.0</td>\n",
       "      <td>1692.0</td>\n",
       "      <td>28112.0</td>\n",
       "      <td>3457.0</td>\n",
       "      <td>7850.0</td>\n",
       "    </tr>\n",
       "    <tr>\n",
       "      <th>2</th>\n",
       "      <td>0.0</td>\n",
       "      <td>0.0</td>\n",
       "      <td>0.0</td>\n",
       "      <td>0.0</td>\n",
       "      <td>0.0</td>\n",
       "      <td>1953.0</td>\n",
       "      <td>7.0</td>\n",
       "      <td>0.0</td>\n",
       "      <td>0.0</td>\n",
       "      <td>0.0</td>\n",
       "      <td>...</td>\n",
       "      <td>3557.0</td>\n",
       "      <td>4960.0</td>\n",
       "      <td>3557.0</td>\n",
       "      <td>29279.0</td>\n",
       "      <td>39338.0</td>\n",
       "      <td>20935.0</td>\n",
       "      <td>6403.0</td>\n",
       "      <td>4928.0</td>\n",
       "      <td>2111.0</td>\n",
       "      <td>7850.0</td>\n",
       "    </tr>\n",
       "  </tbody>\n",
       "</table>\n",
       "<p>3 rows × 212 columns</p>\n",
       "</div>"
      ],
      "text/plain": [
       "   Var1  Var2  Var3  Var4  Var5    Var6  Var7  Var9  Var10  Var11  ...  \\\n",
       "0   0.0   0.0   0.0   0.0   0.0  3052.0   0.0   0.0    0.0    0.0  ...   \n",
       "1   0.0   0.0   0.0   0.0   0.0  1813.0   7.0   0.0    0.0    0.0  ...   \n",
       "2   0.0   0.0   0.0   0.0   0.0  1953.0   7.0   0.0    0.0    0.0  ...   \n",
       "\n",
       "   Var220   Var221  Var222   Var223   Var224   Var225  Var226   Var227  \\\n",
       "0     3.0   1344.0     3.0  29279.0  39338.0  20935.0  2117.0   1896.0   \n",
       "1     1.0  29610.0     1.0  29279.0  39338.0   8875.0  1692.0  28112.0   \n",
       "2  3557.0   4960.0  3557.0  29279.0  39338.0  20935.0  6403.0   4928.0   \n",
       "\n",
       "   Var228   Var229  \n",
       "0  1193.0  22777.0  \n",
       "1  3457.0   7850.0  \n",
       "2  2111.0   7850.0  \n",
       "\n",
       "[3 rows x 212 columns]"
      ]
     },
     "execution_count": 13,
     "metadata": {},
     "output_type": "execute_result"
    }
   ],
   "source": [
    "#Объединяем вещ. и катег. пер-ые, у вещ.пер-х пропуски заполнены нулями\n",
    "X_zero = pd.DataFrame(np.hstack((X_zero, X_cat)), columns = list(X_zero.columns)+list(X_cat.columns))\n",
    "X_zero.head(3)"
   ]
  },
  {
   "cell_type": "code",
   "execution_count": 14,
   "metadata": {},
   "outputs": [
    {
     "data": {
      "text/html": [
       "<div>\n",
       "<style scoped>\n",
       "    .dataframe tbody tr th:only-of-type {\n",
       "        vertical-align: middle;\n",
       "    }\n",
       "\n",
       "    .dataframe tbody tr th {\n",
       "        vertical-align: top;\n",
       "    }\n",
       "\n",
       "    .dataframe thead th {\n",
       "        text-align: right;\n",
       "    }\n",
       "</style>\n",
       "<table border=\"1\" class=\"dataframe\">\n",
       "  <thead>\n",
       "    <tr style=\"text-align: right;\">\n",
       "      <th></th>\n",
       "      <th>Var1</th>\n",
       "      <th>Var2</th>\n",
       "      <th>Var3</th>\n",
       "      <th>Var4</th>\n",
       "      <th>Var5</th>\n",
       "      <th>Var6</th>\n",
       "      <th>Var7</th>\n",
       "      <th>Var9</th>\n",
       "      <th>Var10</th>\n",
       "      <th>Var11</th>\n",
       "      <th>...</th>\n",
       "      <th>Var220</th>\n",
       "      <th>Var221</th>\n",
       "      <th>Var222</th>\n",
       "      <th>Var223</th>\n",
       "      <th>Var224</th>\n",
       "      <th>Var225</th>\n",
       "      <th>Var226</th>\n",
       "      <th>Var227</th>\n",
       "      <th>Var228</th>\n",
       "      <th>Var229</th>\n",
       "    </tr>\n",
       "  </thead>\n",
       "  <tbody>\n",
       "    <tr>\n",
       "      <th>0</th>\n",
       "      <td>11.003509</td>\n",
       "      <td>0.00497</td>\n",
       "      <td>429.328358</td>\n",
       "      <td>0.148235</td>\n",
       "      <td>249055.515021</td>\n",
       "      <td>3052.0</td>\n",
       "      <td>6.792126</td>\n",
       "      <td>47.487719</td>\n",
       "      <td>381346.56309</td>\n",
       "      <td>8.549254</td>\n",
       "      <td>...</td>\n",
       "      <td>3.0</td>\n",
       "      <td>1344.0</td>\n",
       "      <td>3.0</td>\n",
       "      <td>29279.0</td>\n",
       "      <td>39338.0</td>\n",
       "      <td>20935.0</td>\n",
       "      <td>2117.0</td>\n",
       "      <td>1896.0</td>\n",
       "      <td>1193.0</td>\n",
       "      <td>22777.0</td>\n",
       "    </tr>\n",
       "    <tr>\n",
       "      <th>1</th>\n",
       "      <td>11.003509</td>\n",
       "      <td>0.00497</td>\n",
       "      <td>429.328358</td>\n",
       "      <td>0.148235</td>\n",
       "      <td>249055.515021</td>\n",
       "      <td>1813.0</td>\n",
       "      <td>7.000000</td>\n",
       "      <td>47.487719</td>\n",
       "      <td>381346.56309</td>\n",
       "      <td>8.549254</td>\n",
       "      <td>...</td>\n",
       "      <td>1.0</td>\n",
       "      <td>29610.0</td>\n",
       "      <td>1.0</td>\n",
       "      <td>29279.0</td>\n",
       "      <td>39338.0</td>\n",
       "      <td>8875.0</td>\n",
       "      <td>1692.0</td>\n",
       "      <td>28112.0</td>\n",
       "      <td>3457.0</td>\n",
       "      <td>7850.0</td>\n",
       "    </tr>\n",
       "    <tr>\n",
       "      <th>2</th>\n",
       "      <td>11.003509</td>\n",
       "      <td>0.00497</td>\n",
       "      <td>429.328358</td>\n",
       "      <td>0.148235</td>\n",
       "      <td>249055.515021</td>\n",
       "      <td>1953.0</td>\n",
       "      <td>7.000000</td>\n",
       "      <td>47.487719</td>\n",
       "      <td>381346.56309</td>\n",
       "      <td>8.549254</td>\n",
       "      <td>...</td>\n",
       "      <td>3557.0</td>\n",
       "      <td>4960.0</td>\n",
       "      <td>3557.0</td>\n",
       "      <td>29279.0</td>\n",
       "      <td>39338.0</td>\n",
       "      <td>20935.0</td>\n",
       "      <td>6403.0</td>\n",
       "      <td>4928.0</td>\n",
       "      <td>2111.0</td>\n",
       "      <td>7850.0</td>\n",
       "    </tr>\n",
       "  </tbody>\n",
       "</table>\n",
       "<p>3 rows × 212 columns</p>\n",
       "</div>"
      ],
      "text/plain": [
       "        Var1     Var2        Var3      Var4           Var5    Var6      Var7  \\\n",
       "0  11.003509  0.00497  429.328358  0.148235  249055.515021  3052.0  6.792126   \n",
       "1  11.003509  0.00497  429.328358  0.148235  249055.515021  1813.0  7.000000   \n",
       "2  11.003509  0.00497  429.328358  0.148235  249055.515021  1953.0  7.000000   \n",
       "\n",
       "        Var9         Var10     Var11  ...  Var220   Var221  Var222   Var223  \\\n",
       "0  47.487719  381346.56309  8.549254  ...     3.0   1344.0     3.0  29279.0   \n",
       "1  47.487719  381346.56309  8.549254  ...     1.0  29610.0     1.0  29279.0   \n",
       "2  47.487719  381346.56309  8.549254  ...  3557.0   4960.0  3557.0  29279.0   \n",
       "\n",
       "    Var224   Var225  Var226   Var227  Var228   Var229  \n",
       "0  39338.0  20935.0  2117.0   1896.0  1193.0  22777.0  \n",
       "1  39338.0   8875.0  1692.0  28112.0  3457.0   7850.0  \n",
       "2  39338.0  20935.0  6403.0   4928.0  2111.0   7850.0  \n",
       "\n",
       "[3 rows x 212 columns]"
      ]
     },
     "execution_count": 14,
     "metadata": {},
     "output_type": "execute_result"
    }
   ],
   "source": [
    "#Объединяем вещ. и катег. пер-ые, у вещ.пер-х пропуски заполнены средними значениями\n",
    "X_mean = pd.DataFrame(np.hstack((X_mean, X_cat)), columns = list(X_mean.columns)+list(X_cat.columns))\n",
    "X_mean.head(3)"
   ]
  },
  {
   "cell_type": "markdown",
   "metadata": {},
   "source": [
    "### Отделяем hold-out dataset с сохранением баланса классов (стратификация)"
   ]
  },
  {
   "cell_type": "code",
   "execution_count": 15,
   "metadata": {},
   "outputs": [],
   "source": [
    "# X_test_zero, y_test_zero, X_test_mean, y_test_mean - это наши hold-out dataset.\n",
    "from sklearn.model_selection import train_test_split\n",
    "\n",
    "X_train_zero, X_test_zero, y_train_zero, y_test_zero = train_test_split(X_zero, y, test_size=0.3, stratify=y, random_state=0)\n",
    "X_train_mean, X_test_mean, y_train_mean, y_test_mean = train_test_split(X_mean, y, test_size=0.3, stratify=y, random_state=0)"
   ]
  },
  {
   "cell_type": "markdown",
   "metadata": {},
   "source": [
    "### Балансировка классов"
   ]
  },
  {
   "cell_type": "code",
   "execution_count": 16,
   "metadata": {},
   "outputs": [
    {
     "name": "stdout",
     "output_type": "stream",
     "text": [
      "2083\n",
      "25917\n"
     ]
    }
   ],
   "source": [
    "# покажем, что классы в выборке не сбалансированы\n",
    "\n",
    "print(np.sum(y_train_zero.Labels==1))\n",
    "print(np.sum(y_train_zero.Labels==-1))"
   ]
  },
  {
   "cell_type": "code",
   "execution_count": 17,
   "metadata": {},
   "outputs": [
    {
     "name": "stdout",
     "output_type": "stream",
     "text": [
      "2083\n",
      "25917\n"
     ]
    }
   ],
   "source": [
    "print(np.sum(y_train_mean.Labels==1))\n",
    "print(np.sum(y_train_mean.Labels==-1))"
   ]
  },
  {
   "cell_type": "code",
   "execution_count": 18,
   "metadata": {},
   "outputs": [],
   "source": [
    "# Добавление данных класса 1 в обучающую выборку\n",
    "\n",
    "np.random.seed(0)\n",
    "indices_to_add = np.random.randint(np.sum(y_train_zero.Labels==1),\n",
    "                                   size=(np.sum(y_train_zero.Labels==-1)-np.sum(y_train_zero.Labels==1)))\n",
    "\n",
    "X_train_zero_add = X_train_zero.to_numpy()[y_train_zero.Labels == 1,:][indices_to_add,:]\n",
    "X_train_zero = np.vstack((X_train_zero, X_train_zero_add))\n",
    "\n",
    "y_train_zero_add = y_train_zero.to_numpy()[y_train_zero.Labels == 1][indices_to_add]\n",
    "y_train_zero = np.vstack((y_train_zero, y_train_zero_add))"
   ]
  },
  {
   "cell_type": "code",
   "execution_count": 19,
   "metadata": {},
   "outputs": [],
   "source": [
    "np.random.seed(0)\n",
    "indices_to_add = np.random.randint(np.sum(y_train_mean.Labels==1),\n",
    "                                   size=(np.sum(y_train_mean.Labels==-1)-np.sum(y_train_mean.Labels==1)))\n",
    "\n",
    "X_train_mean_add = X_train_mean.to_numpy()[y_train_mean.Labels == 1,:][indices_to_add,:]\n",
    "X_train_mean = np.vstack((X_train_mean, X_train_mean_add))\n",
    "\n",
    "y_train_mean_add = y_train_mean.to_numpy()[y_train_mean.Labels == 1][indices_to_add]\n",
    "y_train_mean = np.vstack((y_train_mean, y_train_mean_add))"
   ]
  },
  {
   "cell_type": "markdown",
   "metadata": {},
   "source": [
    "## II. Построение baseline моделей"
   ]
  },
  {
   "cell_type": "markdown",
   "metadata": {},
   "source": [
    "### 1. LogisticRegression"
   ]
  },
  {
   "cell_type": "markdown",
   "metadata": {},
   "source": [
    "#### Линейная модель LogisticRegression с регуляризацией Лассо (для отбора признаков, т.к. у нас их много и много пропусков)"
   ]
  },
  {
   "cell_type": "code",
   "execution_count": 20,
   "metadata": {},
   "outputs": [],
   "source": [
    "# Создаем регрессор\n",
    "lr_classifier = linear_model.LogisticRegression(solver='liblinear', penalty='l1', random_state = 0)"
   ]
  },
  {
   "cell_type": "code",
   "execution_count": 21,
   "metadata": {},
   "outputs": [],
   "source": [
    "# Создаем скалер для масштабирования обучающей выборки. StandardScaler отнимает среднее и делит на выборочное стандарт.откл.\n",
    "scaler = StandardScaler()"
   ]
  },
  {
   "cell_type": "code",
   "execution_count": 22,
   "metadata": {},
   "outputs": [],
   "source": [
    "# Создаем pipeline из двух шагов: scaling и классификация\n",
    "lr_pipeline = Pipeline(steps = [('scaling', scaler), ('regression', lr_classifier)])"
   ]
  },
  {
   "cell_type": "code",
   "execution_count": 23,
   "metadata": {},
   "outputs": [],
   "source": [
    "# Для кросс-валидации будем использовать стратегию StratifiedKFold, делим на 3 фолда, перемешиваем выборку\n",
    "cv_strategy = model_selection.StratifiedKFold(n_splits = 3, shuffle = True, random_state = 0)"
   ]
  },
  {
   "cell_type": "markdown",
   "metadata": {},
   "source": [
    "#### Создадим функцию для вычисления метрик качества"
   ]
  },
  {
   "cell_type": "code",
   "execution_count": 24,
   "metadata": {},
   "outputs": [],
   "source": [
    "def metric(pipeline, X, y, cv):\n",
    "    recall = model_selection.cross_val_score(pipeline, X, y, scoring = 'recall', cv=cv)\n",
    "    precision = model_selection.cross_val_score(pipeline, X, y, scoring = 'precision', cv=cv)\n",
    "    F1 = model_selection.cross_val_score(pipeline, X, y, scoring = 'f1', cv=cv)\n",
    "    ROC_AUC = model_selection.cross_val_score(pipeline, X, y, scoring = 'roc_auc', cv=cv)\n",
    "    return print(\"Recall: %s,\\nPrecision: %r,\\nF1: %f,\\nROC-AUC: %g.\" %(recall.mean(), precision.mean(), F1.mean(), ROC_AUC.mean()))"
   ]
  },
  {
   "cell_type": "code",
   "execution_count": 25,
   "metadata": {},
   "outputs": [
    {
     "name": "stdout",
     "output_type": "stream",
     "text": [
      "Качество LogisticRegression, пропуски в данных заполнены нулями:\n",
      "\n",
      "Recall: 0.672415788864452,\n",
      "Precision: 0.6345854642762175,\n",
      "F1: 0.652947,\n",
      "ROC-AUC: 0.69606.\n"
     ]
    }
   ],
   "source": [
    "print ('Качество LogisticRegression, пропуски в данных заполнены нулями:\\n')\n",
    "metric(lr_pipeline, X_train_zero, y_train_zero.ravel(), cv_strategy)"
   ]
  },
  {
   "cell_type": "code",
   "execution_count": 26,
   "metadata": {},
   "outputs": [
    {
     "name": "stdout",
     "output_type": "stream",
     "text": [
      "Качество LogisticRegression, пропуски в данных заполнены средними значениями:\n",
      "\n",
      "Recall: 0.6614577304471968,\n",
      "Precision: 0.6359433427570091,\n",
      "F1: 0.648432,\n",
      "ROC-AUC: 0.701643.\n"
     ]
    }
   ],
   "source": [
    "print ('Качество LogisticRegression, пропуски в данных заполнены средними значениями:\\n')\n",
    "metric(lr_pipeline, X_train_mean, y_train_mean.ravel(), cv_strategy)"
   ]
  },
  {
   "cell_type": "markdown",
   "metadata": {},
   "source": [
    "### 2. RandomForestClassifier"
   ]
  },
  {
   "cell_type": "code",
   "execution_count": 30,
   "metadata": {},
   "outputs": [],
   "source": [
    "rf_classifier = ensemble.RandomForestClassifier(n_estimators=10, max_features='sqrt', random_state = 1)\n",
    "rf_pipeline = Pipeline(steps = [('scaling', scaler), ('regression', rf_classifier)])\n",
    "cv_strategy = model_selection.StratifiedKFold(n_splits = 5, shuffle = True, random_state = 0)"
   ]
  },
  {
   "cell_type": "code",
   "execution_count": 31,
   "metadata": {},
   "outputs": [
    {
     "name": "stdout",
     "output_type": "stream",
     "text": [
      "Качество RandomForestClassifier, пропуски в данных заполнены нулями:\n",
      "\n",
      "Recall: 1.0,\n",
      "Precision: 0.994323908729589,\n",
      "F1: 0.997153,\n",
      "ROC-AUC: 0.999998.\n"
     ]
    }
   ],
   "source": [
    "print ('Качество RandomForestClassifier, пропуски в данных заполнены нулями:\\n')\n",
    "metric(rf_pipeline, X_train_zero, y_train_zero.ravel(), cv_strategy)"
   ]
  },
  {
   "cell_type": "code",
   "execution_count": 30,
   "metadata": {},
   "outputs": [
    {
     "name": "stdout",
     "output_type": "stream",
     "text": [
      "Качество RandomForestClassifier, пропуски в данных заполнены средними значениями:\n",
      "\n",
      "Recall: 1.0,\n",
      "Precision: 0.9951256475634797,\n",
      "F1: 0.997556,\n",
      "ROC-AUC: 0.999999.\n"
     ]
    }
   ],
   "source": [
    "print ('Качество RandomForestClassifier, пропуски в данных заполнены средними значениями:\\n')\n",
    "metric(rf_pipeline, X_train_mean, y_train_mean.ravel(), cv_strategy)"
   ]
  },
  {
   "cell_type": "markdown",
   "metadata": {},
   "source": [
    "### 3. GradientBoostingClassifier "
   ]
  },
  {
   "cell_type": "code",
   "execution_count": 28,
   "metadata": {},
   "outputs": [],
   "source": [
    "gb_classifier = ensemble.GradientBoostingClassifier(n_estimators = 10, max_depth=5, random_state = 1)\n",
    "gb_pipeline = Pipeline(steps = [('scaling', scaler), ('regression', gb_classifier)])\n",
    "cv_strategy = model_selection.StratifiedKFold(n_splits = 5, shuffle = True, random_state = 0)"
   ]
  },
  {
   "cell_type": "code",
   "execution_count": 32,
   "metadata": {},
   "outputs": [
    {
     "name": "stdout",
     "output_type": "stream",
     "text": [
      "Качество GradientBoostingClassifier, пропуски в данных заполнены нулями:\n",
      "\n",
      "Recall: 0.7473869642682749,\n",
      "Precision: 0.6779083892723244,\n",
      "F1: 0.710858,\n",
      "ROC-AUC: 0.769972.\n"
     ]
    }
   ],
   "source": [
    "print ('Качество GradientBoostingClassifier, пропуски в данных заполнены нулями:\\n')\n",
    "metric(gb_pipeline, X_train_zero, y_train_zero.ravel(), cv_strategy)"
   ]
  },
  {
   "cell_type": "code",
   "execution_count": 29,
   "metadata": {},
   "outputs": [
    {
     "name": "stdout",
     "output_type": "stream",
     "text": [
      "Качество GradientBoostingClassifier, пропуски в данных заполнены средними значениями:\n",
      "\n",
      "Recall: 0.735849713748413,\n",
      "Precision: 0.6857789528959584,\n",
      "F1: 0.709807,\n",
      "ROC-AUC: 0.773075.\n"
     ]
    }
   ],
   "source": [
    "print ('Качество GradientBoostingClassifier, пропуски в данных заполнены средними значениями:\\n')\n",
    "metric(gb_pipeline, X_train_mean, y_train_mean.ravel(), cv_strategy)"
   ]
  },
  {
   "cell_type": "markdown",
   "metadata": {},
   "source": [
    "#### Качество RandomForestClassifier кажется подозрительно высоким, скорее всего модель переобучилась. Проверим модели на отложенном датасете."
   ]
  },
  {
   "cell_type": "code",
   "execution_count": 35,
   "metadata": {},
   "outputs": [
    {
     "data": {
      "text/plain": [
       "0.6398675572671855"
      ]
     },
     "execution_count": 35,
     "metadata": {},
     "output_type": "execute_result"
    }
   ],
   "source": [
    "# LogisticRegression\n",
    "lr_pipeline.fit(X_train_mean, y_train_mean)\n",
    "prediction = lr_pipeline.predict(X_test_mean)\n",
    "metrics.roc_auc_score(y_test_mean, prediction)"
   ]
  },
  {
   "cell_type": "code",
   "execution_count": 33,
   "metadata": {},
   "outputs": [
    {
     "data": {
      "text/plain": [
       "0.5024535337873445"
      ]
     },
     "execution_count": 33,
     "metadata": {},
     "output_type": "execute_result"
    }
   ],
   "source": [
    "# RandomForestClassifier\n",
    "rf_pipeline.fit(X_train_mean, y_train_mean)\n",
    "prediction = rf_pipeline.predict(X_test_mean)\n",
    "metrics.roc_auc_score(y_test_mean, prediction)"
   ]
  },
  {
   "cell_type": "code",
   "execution_count": 34,
   "metadata": {},
   "outputs": [
    {
     "data": {
      "text/plain": [
       "0.6718325590098796"
      ]
     },
     "execution_count": 34,
     "metadata": {},
     "output_type": "execute_result"
    }
   ],
   "source": [
    "# GradientBoostingClassifier\n",
    "gb_pipeline.fit(X_train_mean, y_train_mean)\n",
    "prediction = gb_pipeline.predict(X_test_mean)\n",
    "metrics.roc_auc_score(y_test_mean, prediction)"
   ]
  },
  {
   "cell_type": "markdown",
   "metadata": {},
   "source": [
    "### Вывод: среди построенных baseline-решений с учетом качества на отложенном датасете лучшее качество показывает  GradientBoostingClassifier"
   ]
  }
 ],
 "metadata": {
  "kernelspec": {
   "display_name": "Python 3",
   "language": "python",
   "name": "python3"
  },
  "language_info": {
   "codemirror_mode": {
    "name": "ipython",
    "version": 3
   },
   "file_extension": ".py",
   "mimetype": "text/x-python",
   "name": "python",
   "nbconvert_exporter": "python",
   "pygments_lexer": "ipython3",
   "version": "3.7.0"
  }
 },
 "nbformat": 4,
 "nbformat_minor": 1
}

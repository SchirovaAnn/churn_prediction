{
 "cells": [
  {
   "cell_type": "markdown",
   "metadata": {},
   "source": [
    "## WEEK 6. Оценка эффекта от внедрения полученного решения."
   ]
  },
  {
   "cell_type": "markdown",
   "metadata": {},
   "source": [
    "Постройте простую экономическую модель для оценки эффекта от внедрения полученного решения на практике. \n",
    "\n",
    "Например, введите следующие параметры:\n",
    "\n",
    "* сколько денег в среднем приносит один пользователь в месяц;\n",
    "* сколько денег в среднем вы будете вкладывать в удержание одного пользователя;\n",
    "* с какой вероятностью пользователь примет ваше предложение;\n",
    "* сколько пользователей (например, топ 1% или топ 25% согласно ранжированию по вашей модели) будет участвовать в кампании.\n",
    "\n",
    "\n",
    "1. Введите еще несколько параметров и на их основе постройте простую экономическую модель: формулу по которой в зависимости от значения исходных параметров вы сможете рассчитать экономический эффект от проведения кампании (= сколько денег вы получили (или наоборот потеряли) от проведения кампании по удержанию) с использование вашей модели.\n",
    "\n",
    "2. Исходя из введенных параметров проанализируйте, какой топ пользователей, склонных к оттоку согласно модели, оптимально выбрать для проведения кампании по удержанию для таким образом, чтобы экономический эффект был наибольшим? \n",
    "\n",
    "3. Попробуйте усложнить экономическую модель. Добавьте еще несколько параметров и поиграйте с ними (например, измените стоимость удержания и вероятность, с которой пользователь принимает предложение), проанализируйте как меняется оптимальный размер топа? \n",
    "\n",
    "4. Всегда ли применение модели экономически оправданно? Приведите пример набора значений параметров, при которых применение модели перестает быть оправданным.\n",
    "\n",
    "5. Оцените изменение экономического эффекта от проведения кампании по удержанию при увеличении качества модели на 1%? На 3%? При ответе на вопрос укажите, по какой метрике вы оцениваете качество.\n",
    "\n",
    "6. Как вы думаете, является ли экономически оправданным вложение средств в улучшение качества модели? На сколько нужно улучшить модель, чтобы это качественно сказалось на экономическом эффекте от удержания?"
   ]
  },
  {
   "cell_type": "code",
   "execution_count": 1,
   "metadata": {},
   "outputs": [],
   "source": [
    "import pandas as pd\n",
    "import numpy as np\n",
    "import random\n",
    "from sklearn import model_selection, linear_model, metrics, ensemble\n",
    "from sklearn.preprocessing import StandardScaler\n",
    "from sklearn.pipeline import Pipeline\n",
    "from sklearn.model_selection import train_test_split\n",
    "from sklearn.utils import shuffle\n",
    "import xgboost as xgb\n",
    "import matplotlib.pyplot as plt\n",
    "%matplotlib inline"
   ]
  },
  {
   "cell_type": "markdown",
   "metadata": {},
   "source": [
    "Было решено применить модель XGBClassifier вместо GradientBoostingClassifier, так как она показала более высокое качество. Подготовка данных и построение модели приведены ниже (процесс выбора лучшего варианта обработки данных и настройки параметров был аналогичен тому, что сделан на пятой недели, не буду его приводить)."
   ]
  },
  {
   "cell_type": "markdown",
   "metadata": {},
   "source": [
    "### 1. Подготовка данных"
   ]
  },
  {
   "cell_type": "code",
   "execution_count": 2,
   "metadata": {},
   "outputs": [],
   "source": [
    "train = pd.read_csv('orange_small_churn_train_data.csv')\n",
    "test = pd.read_csv('orange_small_churn_test_data.csv')\n",
    "\n",
    "train = train.drop(18298, axis=0)  #удалим последнюю строку, т.к. в ней почему-то нет данных "
   ]
  },
  {
   "cell_type": "code",
   "execution_count": 3,
   "metadata": {},
   "outputs": [],
   "source": [
    "y = train['labels']\n",
    "X_train = train.drop(['ID', 'labels'],axis=1)\n",
    "X_test = test.drop(['ID'],axis=1)"
   ]
  },
  {
   "cell_type": "code",
   "execution_count": 4,
   "metadata": {},
   "outputs": [],
   "source": [
    "data_train = pd.concat([X_train, y], axis=1)"
   ]
  },
  {
   "cell_type": "code",
   "execution_count": 5,
   "metadata": {},
   "outputs": [
    {
     "name": "stdout",
     "output_type": "stream",
     "text": [
      "Random over-sampling:\n",
      " 1.0    16921\n",
      "-1.0    16921\n",
      "Name: labels, dtype: int64\n"
     ]
    }
   ],
   "source": [
    "# Oversampling\n",
    "count_no_outflow, count_outflow = y.value_counts()\n",
    "\n",
    "df_no_outflow = data_train[data_train['labels'] == -1]\n",
    "df_outflow = data_train[data_train['labels'] == 1]\n",
    "\n",
    "df_outflow_under = df_outflow.sample((count_no_outflow - count_outflow), replace=True)\n",
    "data_oversampling = shuffle(pd.concat([df_no_outflow, df_outflow, df_outflow_under], axis=0))\n",
    "\n",
    "print('Random over-sampling:')\n",
    "print(data_oversampling.labels.value_counts())"
   ]
  },
  {
   "cell_type": "code",
   "execution_count": 6,
   "metadata": {},
   "outputs": [],
   "source": [
    "y = data_oversampling.iloc[:,-1]\n",
    "X_train = data_oversampling.iloc[:,:230]"
   ]
  },
  {
   "cell_type": "code",
   "execution_count": 7,
   "metadata": {},
   "outputs": [],
   "source": [
    "#пропуски у числовых переменных заполняем нулями, у категориальных - строкой \"Na\"\n",
    "X_train_num = X_train.iloc[:, :190].fillna(0) \n",
    "X_test_num = X_test.iloc[:, :190].fillna(0)\n",
    "X_train_cat = X_train.iloc[:, 190:].fillna('Na', axis=0).applymap(str)\n",
    "X_test_cat = X_test.iloc[:, 190:].fillna('Na', axis=0).applymap(str)"
   ]
  },
  {
   "cell_type": "code",
   "execution_count": 8,
   "metadata": {},
   "outputs": [],
   "source": [
    "#Преобразуем категориальные переменные через LabelEncoder\n",
    "from sklearn.preprocessing import LabelEncoder\n",
    "def labelEncoder(data, test):\n",
    "    lab_enc = LabelEncoder()\n",
    "    for one_column in data.columns:\n",
    "        lab_enc.fit(data.loc[:,one_column].append(test.loc[:,one_column]))\n",
    "        data.loc[:,one_column] = lab_enc.transform(data.loc[:,one_column])\n",
    "        test.loc[:,one_column] = lab_enc.transform(test.loc[:,one_column])  \n",
    "    return data, test"
   ]
  },
  {
   "cell_type": "code",
   "execution_count": 9,
   "metadata": {},
   "outputs": [],
   "source": [
    "X_train_cat, X_test_cat = labelEncoder(X_train_cat, X_test_cat)"
   ]
  },
  {
   "cell_type": "code",
   "execution_count": 10,
   "metadata": {},
   "outputs": [],
   "source": [
    "#Объединим признаки в обучающую и тестовую выборки\n",
    "X_train = pd.DataFrame(np.hstack((X_train_num, X_train_cat)), columns = list(X_train_num.columns)+list(X_train_cat.columns)) \n",
    "X_test = pd.DataFrame(np.hstack((X_test_num, X_test_cat)), columns = list(X_test_num.columns)+list(X_test_cat.columns)) "
   ]
  },
  {
   "cell_type": "code",
   "execution_count": 11,
   "metadata": {},
   "outputs": [],
   "source": [
    "#Проведем следующий отбор признаков: удалим признаки, у которых одно уникальное значение\n",
    "def DropFeatures(data):\n",
    "    good_dataframe = pd.DataFrame([])\n",
    "    for one_column in data.columns:\n",
    "        if len(np.unique(data.loc[:,one_column]))>1:\n",
    "            good_dataframe[str(one_column)] = data.loc[:,one_column]\n",
    "    return good_dataframe"
   ]
  },
  {
   "cell_type": "code",
   "execution_count": 12,
   "metadata": {},
   "outputs": [],
   "source": [
    "Common_data = DropFeatures(pd.DataFrame.append(X_train, X_test))\n",
    "#Разделяем данные на обучение и тест\n",
    "X_data = Common_data.iloc[:X_train.shape[0],:]\n",
    "X_hold = Common_data.iloc[X_train.shape[0]:,:]"
   ]
  },
  {
   "cell_type": "markdown",
   "metadata": {},
   "source": [
    "### 2. Обучение модели и вычисление метрик качества"
   ]
  },
  {
   "cell_type": "code",
   "execution_count": 13,
   "metadata": {},
   "outputs": [],
   "source": [
    "#Тестовые данные с Kaggle убрали в hold-out dataset, остальные данные разобьем на обучение и тест\n",
    "X_train, X_test, y_train, y_test = train_test_split(X_data, y, test_size=0.2, stratify=y, random_state=0)"
   ]
  },
  {
   "cell_type": "code",
   "execution_count": 14,
   "metadata": {},
   "outputs": [],
   "source": [
    "#Модель XGBClassifier\n",
    "xgboost_classifier = xgb.XGBClassifier(n_estimators=130, max_depth=4, random_state=0)\n",
    "\n",
    "#Создаем скалер для масштабирования обучающей выборки. StandardScaler отнимает среднее и делит на выборочное стандарт.откл.\n",
    "scaler = StandardScaler()\n",
    "\n",
    "#создаем pipeline из двух шагов: scaling и XGBClassifier\n",
    "pipeline = Pipeline(steps = [('scaling', scaler), ('regression', xgboost_classifier)])\n",
    "\n",
    "#для кросс-валидации будем использовать стратегию StratifiedKFold, делим на 5 фолда, перемешиваем выборку\n",
    "cv_strategy = model_selection.StratifiedKFold(n_splits = 5, shuffle = True, random_state = 0)"
   ]
  },
  {
   "cell_type": "code",
   "execution_count": 15,
   "metadata": {},
   "outputs": [
    {
     "data": {
      "text/plain": [
       "XGBClassifier(base_score=0.5, booster='gbtree', colsample_bylevel=1,\n",
       "              colsample_bynode=1, colsample_bytree=1, gamma=0,\n",
       "              learning_rate=0.1, max_delta_step=0, max_depth=4,\n",
       "              min_child_weight=1, missing=None, n_estimators=130, n_jobs=1,\n",
       "              nthread=None, objective='binary:logistic', random_state=0,\n",
       "              reg_alpha=0, reg_lambda=1, scale_pos_weight=1, seed=None,\n",
       "              silent=None, subsample=1, verbosity=1)"
      ]
     },
     "execution_count": 15,
     "metadata": {},
     "output_type": "execute_result"
    }
   ],
   "source": [
    "xgboost_classifier"
   ]
  },
  {
   "cell_type": "code",
   "execution_count": 149,
   "metadata": {},
   "outputs": [],
   "source": [
    "#функция для расчета метрик качества\n",
    "def metric(pipeline, X, y, cv):\n",
    "    recall = model_selection.cross_val_score(pipeline, X, y, scoring = 'recall', cv=cv)\n",
    "    precision = model_selection.cross_val_score(pipeline, X, y, scoring = 'precision', cv=cv)\n",
    "    F1 = model_selection.cross_val_score(pipeline, X, y, scoring = 'f1', cv=cv)\n",
    "    ROC_AUC = model_selection.cross_val_score(pipeline, X, y, scoring = 'roc_auc', cv=cv)\n",
    "    return print(\"Recall: %s,\\nPrecision: %r,\\nF1: %f,\\nROC-AUC: %g.\" %(recall.mean(), precision.mean(), F1.mean(), ROC_AUC.mean()))"
   ]
  },
  {
   "cell_type": "code",
   "execution_count": 374,
   "metadata": {},
   "outputs": [
    {
     "name": "stdout",
     "output_type": "stream",
     "text": [
      "Качество XGBClassifier:\n",
      "\n",
      "Recall: 0.8383688495115514,\n",
      "Precision: 0.7667395471209879,\n",
      "F1: 0.800928,\n",
      "ROC-AUC: 0.874113.\n"
     ]
    }
   ],
   "source": [
    "print ('Качество XGBClassifier:\\n')\n",
    "metric(pipeline, X_train, np.ravel(y_train), cv_strategy)"
   ]
  },
  {
   "cell_type": "code",
   "execution_count": 128,
   "metadata": {},
   "outputs": [
    {
     "data": {
      "text/plain": [
       "0.7990912138449773"
      ]
     },
     "execution_count": 128,
     "metadata": {},
     "output_type": "execute_result"
    }
   ],
   "source": [
    "#Проверка качества на тестовой выборке\n",
    "\n",
    "#Масштабирование данных\n",
    "scaler = StandardScaler()\n",
    "scaler.fit(X_train)               \n",
    "X_train = scaler.transform(X_train)\n",
    "X_test = scaler.transform(X_test)\n",
    "\n",
    "xgboost_classifier = xgb.XGBClassifier(n_estimators=130, max_depth=4, random_state=0)\n",
    "\n",
    "xgboost_classifier.fit(X_train, np.ravel(y_train))\n",
    "predictions = xgboost_classifier.predict(X_test)\n",
    "metrics.roc_auc_score(y_test, predictions)"
   ]
  },
  {
   "cell_type": "markdown",
   "metadata": {},
   "source": [
    "### Оценка потенциального экономического эффекта от внедрения полученного решения"
   ]
  },
  {
   "cell_type": "markdown",
   "metadata": {},
   "source": [
    "Постройте простую экономическую модель для оценки эффекта от внедрения полученного решения на практике. Например, введите следующие параметры: сколько денег в среднем приносит один пользователь в месяц; сколько денег в среднем вы будете вкладывать в удержание одного пользователя; с какой вероятностью пользователь примет ваше предложение; сколько пользователей (например, топ 1% или топ 25% согласно ранжированию по вашей модели) будет участвовать в кампании."
   ]
  },
  {
   "cell_type": "markdown",
   "metadata": {},
   "source": [
    "### 1."
   ]
  },
  {
   "cell_type": "markdown",
   "metadata": {},
   "source": [
    "Введите еще несколько параметров и на их основе постройте простую экономическую модель: формулу по которой в зависимости от значения исходных параметров вы сможете рассчитать экономический эффект от проведения кампании (= сколько денег вы получили (или наоборот потеряли) от проведения кампании по удержанию) с использование вашей модели."
   ]
  },
  {
   "attachments": {},
   "cell_type": "markdown",
   "metadata": {},
   "source": [
    "Введем следующие переменные:\n",
    "* IOC (Income one customer) = 500р/мес (сколько денег в среднем приносит один пользователь в месяц)\n",
    "* PR (Priece for hold) = 200р               (сколько денег в среднем будем вкладывать в удержание одного пользователя)\n",
    "* PA (Probability accept) = 0.5%          (с какой вероятностью пользователь примет наше предложение)\n",
    "* TP (Top customers) = 10%                 (сколько пользователей согласно ранжированию по модели будет участвовать в кампании)\n",
    "* TC (True-true churn) - число польз-й, к-ых модель отнесла к классу «отток» и кот-ые действительно собирались уйти\n",
    "* FC ( False churn) - число польз-й, к-ых модель отнесла к классу «отток», но кот-ые по факту не собирались уходить\n",
    "* FnoC (False no-churn) – число польз-й, к-ых модель отнесла к классу «не отток», но кот-ые по факту хотят уйти"
   ]
  },
  {
   "attachments": {},
   "cell_type": "markdown",
   "metadata": {},
   "source": [
    "Экономический эффект **Ef** будем рассчитывать по следующей формуле:\n",
    "\n",
    "                                     Ef  = (IOC*PA-PR)*TC – PR*FC – IOC*FnoC"
   ]
  },
  {
   "cell_type": "markdown",
   "metadata": {},
   "source": [
    "### 2."
   ]
  },
  {
   "cell_type": "markdown",
   "metadata": {},
   "source": [
    "Исходя из введенных параметров проанализируйте, какой топ пользователей, склонных к оттоку согласно модели, оптимально выбрать для проведения кампании по удержанию для таким образом, чтобы экономический эффект был наибольшим?"
   ]
  },
  {
   "cell_type": "code",
   "execution_count": 150,
   "metadata": {},
   "outputs": [
    {
     "data": {
      "text/plain": [
       "XGBClassifier(base_score=0.5, booster='gbtree', colsample_bylevel=1,\n",
       "              colsample_bynode=1, colsample_bytree=1, gamma=0,\n",
       "              learning_rate=0.1, max_delta_step=0, max_depth=4,\n",
       "              min_child_weight=1, missing=None, n_estimators=130, n_jobs=1,\n",
       "              nthread=None, objective='binary:logistic', random_state=0,\n",
       "              reg_alpha=0, reg_lambda=1, scale_pos_weight=1, seed=None,\n",
       "              silent=None, subsample=1, verbosity=1)"
      ]
     },
     "execution_count": 150,
     "metadata": {},
     "output_type": "execute_result"
    }
   ],
   "source": [
    "xgboost_classifier.fit(X_train, np.ravel(y_train))"
   ]
  },
  {
   "cell_type": "code",
   "execution_count": 338,
   "metadata": {},
   "outputs": [
    {
     "data": {
      "text/html": [
       "<div>\n",
       "<style scoped>\n",
       "    .dataframe tbody tr th:only-of-type {\n",
       "        vertical-align: middle;\n",
       "    }\n",
       "\n",
       "    .dataframe tbody tr th {\n",
       "        vertical-align: top;\n",
       "    }\n",
       "\n",
       "    .dataframe thead th {\n",
       "        text-align: right;\n",
       "    }\n",
       "</style>\n",
       "<table border=\"1\" class=\"dataframe\">\n",
       "  <thead>\n",
       "    <tr style=\"text-align: right;\">\n",
       "      <th></th>\n",
       "      <th>Fact</th>\n",
       "      <th>Prob_Predict</th>\n",
       "    </tr>\n",
       "  </thead>\n",
       "  <tbody>\n",
       "    <tr>\n",
       "      <th>4157</th>\n",
       "      <td>1.0</td>\n",
       "      <td>0.945336</td>\n",
       "    </tr>\n",
       "    <tr>\n",
       "      <th>787</th>\n",
       "      <td>1.0</td>\n",
       "      <td>0.945336</td>\n",
       "    </tr>\n",
       "    <tr>\n",
       "      <th>3811</th>\n",
       "      <td>1.0</td>\n",
       "      <td>0.944178</td>\n",
       "    </tr>\n",
       "    <tr>\n",
       "      <th>5373</th>\n",
       "      <td>1.0</td>\n",
       "      <td>0.944178</td>\n",
       "    </tr>\n",
       "    <tr>\n",
       "      <th>6152</th>\n",
       "      <td>1.0</td>\n",
       "      <td>0.937559</td>\n",
       "    </tr>\n",
       "  </tbody>\n",
       "</table>\n",
       "</div>"
      ],
      "text/plain": [
       "      Fact  Prob_Predict\n",
       "4157   1.0      0.945336\n",
       "787    1.0      0.945336\n",
       "3811   1.0      0.944178\n",
       "5373   1.0      0.944178\n",
       "6152   1.0      0.937559"
      ]
     },
     "execution_count": 338,
     "metadata": {},
     "output_type": "execute_result"
    }
   ],
   "source": [
    "#Таблица с результатами модели и с фактическими данными, отсортированная по вероятности оттока пользователей:\n",
    "y_predict_proba = xgboost_classifier.predict_proba(X_test)[:,1]\n",
    "\n",
    "data = pd.DataFrame()\n",
    "data['Fact'] = list(y_test)\n",
    "data['Prob_Predict'] = y_predict_proba\n",
    "\n",
    "data.sort_values('Prob_Predict', inplace = True, ascending=False)\n",
    "data.head()"
   ]
  },
  {
   "cell_type": "code",
   "execution_count": 339,
   "metadata": {},
   "outputs": [],
   "source": [
    "#Функция для вычисления экономического эффекта\n",
    "def effect(TP, IOC, PR, PA, data):\n",
    "    top = int(len(data)*TP)\n",
    "    data_top = data.iloc[:top,:]\n",
    "    data_bottom = data.iloc[top:,:]\n",
    "    ef1 = len(data_top[(data_top.Prob_Predict>0.5) & (data_top.Fact==1)])*(IOC*PA-PR)\n",
    "    ef2 = len(data_top[(data_top.Prob_Predict>0.5) & (data_top.Fact==-1)])*(-PR)\n",
    "    ef3 = len(data_top[(data_top.Prob_Predict<0.5) & (data_top.Fact==1)])*(-IOC)\n",
    "    ef = ef1+ef2+ef3\n",
    "    return ef"
   ]
  },
  {
   "cell_type": "code",
   "execution_count": 344,
   "metadata": {},
   "outputs": [],
   "source": [
    "IOC = 500\n",
    "PR = 200\n",
    "PA = 0.5\n",
    "\n",
    "tops = np.arange(0.01, 0.26, 0.01)\n",
    "effect_top = []\n",
    "for top in tops:\n",
    "    effect_top.append(effect(top, IOC, PR, PA, data))"
   ]
  },
  {
   "cell_type": "code",
   "execution_count": 345,
   "metadata": {},
   "outputs": [
    {
     "data": {
      "text/plain": [
       "Text(0.5, 1.0, 'Зависимость экономического эффекта от размера топа')"
      ]
     },
     "execution_count": 345,
     "metadata": {},
     "output_type": "execute_result"
    },
    {
     "data": {
      "image/png": "[encoded data removed]",
      "text/plain": [
       "<Figure size 432x288 with 1 Axes>"
      ]
     },
     "metadata": {
      "needs_background": "light"
     },
     "output_type": "display_data"
    }
   ],
   "source": [
    "plt.plot(tops, effect_top)\n",
    "plt.xlabel(\"Размер топа\")\n",
    "plt.ylabel(\"Экономический эффект\")\n",
    "plt.title(\"Зависимость экономического эффекта от размера топа\")"
   ]
  },
  {
   "cell_type": "markdown",
   "metadata": {},
   "source": [
    "##### Из графика видно, что оптимальный размер топа пользователей для выбранных параметров модели равен примерно 23% и экономический эффект составит порядка 27000р."
   ]
  },
  {
   "cell_type": "markdown",
   "metadata": {},
   "source": [
    "### 3."
   ]
  },
  {
   "cell_type": "markdown",
   "metadata": {},
   "source": [
    "Попробуйте усложнить экономическую модель. Добавьте еще несколько параметров и поиграйте с ними (например, измените стоимость удержания и вероятность, с которой пользователь принимает предложение), проанализируйте как меняется оптимальный размер топа?"
   ]
  },
  {
   "cell_type": "markdown",
   "metadata": {},
   "source": [
    "Усложним модель через добавление следующих переменных: \n",
    "* UC (unexpected cost) - непредвиденные расходы при проведении компании по удержанию на одного пользователя\n",
    "* PUC (probability unexpected cost) - вероятность возникновения непредвиденного расхода на одного пользователя"
   ]
  },
  {
   "cell_type": "code",
   "execution_count": 155,
   "metadata": {},
   "outputs": [],
   "source": [
    "def effect2(TP, IOC, PR, PA, UC, PUC):\n",
    "    top = int(len(data)*TP)\n",
    "    data_top = data.iloc[:top,:]\n",
    "    data_bottom = data.iloc[top:,:]\n",
    "    ef1 = len(data_top[(data_top.Prob_Predict>0.5) & (data_top.Fact==1)])*(IOC*PA-(PR+(UC*PUC)))\n",
    "    ef2 = len(data_top[(data_top.Prob_Predict>0.5) & (data_top.Fact==-1)])*(-(PR+(UC*PUC)))\n",
    "    ef3 = len(data_top[(data_top.Prob_Predict<0.5) & (data_top.Fact==1)])*(-IOC)\n",
    "    ef = ef1+ef2+ef3\n",
    "    return ef"
   ]
  },
  {
   "cell_type": "markdown",
   "metadata": {},
   "source": [
    "* Пусть стоимость удержания уменьшится до 150, но при этом не забываем, что мы ввели возможность понести доп.расходы. Посмотрим как поменяется оптимальный топ."
   ]
  },
  {
   "cell_type": "code",
   "execution_count": 156,
   "metadata": {},
   "outputs": [],
   "source": [
    "IOC = 500\n",
    "PR = 150\n",
    "PA = 0.5\n",
    "UC = 100\n",
    "PUC = 0.3\n",
    "\n",
    "tops = np.arange(0.01, 0.5, 0.01)\n",
    "effect_top = []\n",
    "for top in tops:\n",
    "    effect_top.append(effect2(top, IOC, PR, PA, UC, PUC))"
   ]
  },
  {
   "cell_type": "code",
   "execution_count": 157,
   "metadata": {},
   "outputs": [
    {
     "data": {
      "text/plain": [
       "Text(0.5, 1.0, 'Расходы на удержание снизились, но есть доп.расходы')"
      ]
     },
     "execution_count": 157,
     "metadata": {},
     "output_type": "execute_result"
    },
    {
     "data": {
      "image/png": "[encoded data removed]",
      "text/plain": [
       "<Figure size 432x288 with 1 Axes>"
      ]
     },
     "metadata": {
      "needs_background": "light"
     },
     "output_type": "display_data"
    }
   ],
   "source": [
    "plt.plot(tops, effect_top)\n",
    "plt.xlabel(\"Размер топа\")\n",
    "plt.ylabel(\"Экономический эффект\")\n",
    "plt.title(\"Расходы на удержание снизились, но есть доп.расходы\")"
   ]
  },
  {
   "cell_type": "markdown",
   "metadata": {},
   "source": [
    "##### Ситуация улучшилась - экономический эффект вырос, оптимальный топ стал около 32%"
   ]
  },
  {
   "cell_type": "markdown",
   "metadata": {},
   "source": [
    "* Увеличим стоимость удержания и увеличим вероятность принятия предложения клиентом:"
   ]
  },
  {
   "cell_type": "code",
   "execution_count": 158,
   "metadata": {},
   "outputs": [],
   "source": [
    "IOC = 500\n",
    "PR = 250\n",
    "PA = 0.7\n",
    "UC = 100\n",
    "PUC = 0.3\n",
    "\n",
    "tops = np.arange(0.01, 0.5, 0.01)\n",
    "effect_top = []\n",
    "for top in tops:\n",
    "    effect_top.append(effect2(top, IOC, PR, PA, UC, PUC))"
   ]
  },
  {
   "cell_type": "code",
   "execution_count": 159,
   "metadata": {},
   "outputs": [
    {
     "data": {
      "text/plain": [
       "Text(0.5, 1.0, 'Расходы на удержание увеличились и есть доп.расходы')"
      ]
     },
     "execution_count": 159,
     "metadata": {},
     "output_type": "execute_result"
    },
    {
     "data": {
      "image/png": "[encoded data removed]",
      "text/plain": [
       "<Figure size 432x288 with 1 Axes>"
      ]
     },
     "metadata": {
      "needs_background": "light"
     },
     "output_type": "display_data"
    }
   ],
   "source": [
    "plt.plot(tops, effect_top)\n",
    "plt.xlabel(\"Размер топа\")\n",
    "plt.ylabel(\"Экономический эффект\")\n",
    "plt.title(\"Расходы на удержание увеличились и есть доп.расходы\")"
   ]
  },
  {
   "cell_type": "markdown",
   "metadata": {},
   "source": [
    "##### При использованных параметрах (IOC = 500, PR = 250, PA = 0.7, UC = 100, PUC = 0.3) оптимальный топ равен примерно 22%"
   ]
  },
  {
   "cell_type": "markdown",
   "metadata": {},
   "source": [
    "* Увеличим стоимость удержания (по сравнению с изначальным вариантом, где PR=200) и уменьшим вероятность принятия предложения клиентом:"
   ]
  },
  {
   "cell_type": "code",
   "execution_count": 160,
   "metadata": {},
   "outputs": [],
   "source": [
    "IOC = 500\n",
    "PR = 250\n",
    "PA = 0.4\n",
    "UC = 100\n",
    "PUC = 0.3\n",
    "\n",
    "tops = np.arange(0.01, 0.5, 0.01)\n",
    "effect_top = []\n",
    "for top in tops:\n",
    "    effect_top.append(effect2(top, IOC, PR, PA, UC, PUC))"
   ]
  },
  {
   "cell_type": "code",
   "execution_count": 161,
   "metadata": {},
   "outputs": [
    {
     "data": {
      "text/plain": [
       "Text(0.5, 1.0, 'Расходы на удержание увеличились и есть доп.расходы')"
      ]
     },
     "execution_count": 161,
     "metadata": {},
     "output_type": "execute_result"
    },
    {
     "data": {
      "image/png": "[encoded data removed]",
      "text/plain": [
       "<Figure size 432x288 with 1 Axes>"
      ]
     },
     "metadata": {
      "needs_background": "light"
     },
     "output_type": "display_data"
    }
   ],
   "source": [
    "plt.plot(tops, effect_top)\n",
    "plt.xlabel(\"Размер топа\")\n",
    "plt.ylabel(\"Экономический эффект\")\n",
    "plt.title(\"Расходы на удержание увеличились и есть доп.расходы\")"
   ]
  },
  {
   "cell_type": "markdown",
   "metadata": {},
   "source": [
    "##### Видим, что в данном случае проводить кампанию по удержанию стало невыгодно."
   ]
  },
  {
   "cell_type": "markdown",
   "metadata": {},
   "source": [
    "### 4."
   ]
  },
  {
   "cell_type": "markdown",
   "metadata": {},
   "source": [
    "Всегда ли применение модели экономически оправданно? Приведите пример набора значений параметров, при которых применение модели перестает быть оправданным."
   ]
  },
  {
   "cell_type": "markdown",
   "metadata": {},
   "source": [
    "Помимо последнего рассмотренного случая в предыдущем пункте (параметры: IOC = 500, PR = 250, PA = 0.4, UC = 100, PUC = 0.3) приведем другие примеры:"
   ]
  },
  {
   "cell_type": "code",
   "execution_count": 162,
   "metadata": {},
   "outputs": [],
   "source": [
    "IOC = 500\n",
    "PR = 200\n",
    "PA = 0.5\n",
    "UC = 200\n",
    "PUC = 0.3\n",
    "\n",
    "tops = np.arange(0.01, 0.5, 0.01)\n",
    "effect_top = []\n",
    "for top in tops:\n",
    "    effect_top.append(effect2(top, IOC, PR, PA, UC, PUC))"
   ]
  },
  {
   "cell_type": "code",
   "execution_count": 163,
   "metadata": {},
   "outputs": [
    {
     "data": {
      "text/plain": [
       "Text(0.5, 1.0, 'Зависимость экономического эффекта от размера топа')"
      ]
     },
     "execution_count": 163,
     "metadata": {},
     "output_type": "execute_result"
    },
    {
     "data": {
      "image/png": "[encoded data removed]",
      "text/plain": [
       "<Figure size 432x288 with 1 Axes>"
      ]
     },
     "metadata": {
      "needs_background": "light"
     },
     "output_type": "display_data"
    }
   ],
   "source": [
    "plt.plot(tops, effect_top)\n",
    "plt.xlabel(\"Размер топа\")\n",
    "plt.ylabel(\"Экономический эффект\")\n",
    "plt.title(\"Зависимость экономического эффекта от размера топа\")"
   ]
  },
  {
   "cell_type": "markdown",
   "metadata": {},
   "source": [
    "##### Если непредвиденные расходы возрастут до 200 (IOC = 500, PR = 200, PA = 0.5, UC = 200, PUC = 0.3), то применять модель становится невыгодно."
   ]
  },
  {
   "cell_type": "markdown",
   "metadata": {},
   "source": [
    "### 5."
   ]
  },
  {
   "cell_type": "markdown",
   "metadata": {},
   "source": [
    "Оцените изменение экономического эффекта от проведения кампании по удержанию при увеличении качества модели на 1%? На 3%? При ответе на вопрос укажите, по какой метрике вы оцениваете качество."
   ]
  },
  {
   "cell_type": "markdown",
   "metadata": {},
   "source": [
    "Представим, что нам удалось повысить полноту модели на 1% (т.е. используем метрику recall). Для этого вычислим сначала сколько объектов класса \"отток\" правильно определяет наша модель и посмотрим на сколько нам надо увеличить этот показатель, чтобы полнота модели выросла на 1%."
   ]
  },
  {
   "cell_type": "code",
   "execution_count": 248,
   "metadata": {},
   "outputs": [],
   "source": [
    "y_predict = xgboost_classifier.predict(X_test)"
   ]
  },
  {
   "cell_type": "code",
   "execution_count": 249,
   "metadata": {},
   "outputs": [],
   "source": [
    "data2 = pd.DataFrame()\n",
    "data2['Predict'] = y_predict\n",
    "data2['Fact'] = list(y_test)"
   ]
  },
  {
   "cell_type": "code",
   "execution_count": 250,
   "metadata": {},
   "outputs": [
    {
     "data": {
      "text/html": [
       "<div>\n",
       "<style scoped>\n",
       "    .dataframe tbody tr th:only-of-type {\n",
       "        vertical-align: middle;\n",
       "    }\n",
       "\n",
       "    .dataframe tbody tr th {\n",
       "        vertical-align: top;\n",
       "    }\n",
       "\n",
       "    .dataframe thead th {\n",
       "        text-align: right;\n",
       "    }\n",
       "</style>\n",
       "<table border=\"1\" class=\"dataframe\">\n",
       "  <thead>\n",
       "    <tr style=\"text-align: right;\">\n",
       "      <th>Fact</th>\n",
       "      <th>-1.0</th>\n",
       "      <th>1.0</th>\n",
       "    </tr>\n",
       "    <tr>\n",
       "      <th>Predict</th>\n",
       "      <th></th>\n",
       "      <th></th>\n",
       "    </tr>\n",
       "  </thead>\n",
       "  <tbody>\n",
       "    <tr>\n",
       "      <th>-1.0</th>\n",
       "      <td>2458</td>\n",
       "      <td>517</td>\n",
       "    </tr>\n",
       "    <tr>\n",
       "      <th>1.0</th>\n",
       "      <td>927</td>\n",
       "      <td>2867</td>\n",
       "    </tr>\n",
       "  </tbody>\n",
       "</table>\n",
       "</div>"
      ],
      "text/plain": [
       "Fact     -1.0   1.0\n",
       "Predict            \n",
       "-1.0     2458   517\n",
       " 1.0      927  2867"
      ]
     },
     "execution_count": 250,
     "metadata": {},
     "output_type": "execute_result"
    }
   ],
   "source": [
    "tab_cross = pd.crosstab(data2.Predict, data2.Fact)\n",
    "tab_cross  "
   ]
  },
  {
   "cell_type": "code",
   "execution_count": 251,
   "metadata": {},
   "outputs": [
    {
     "data": {
      "text/plain": [
       "0.847"
      ]
     },
     "execution_count": 251,
     "metadata": {},
     "output_type": "execute_result"
    }
   ],
   "source": [
    "recall = tab_cross.iloc[1,1]/(tab_cross.iloc[1,1]+tab_cross.iloc[0,1])\n",
    "round(recall,3)"
   ]
  },
  {
   "cell_type": "code",
   "execution_count": 252,
   "metadata": {},
   "outputs": [
    {
     "data": {
      "text/plain": [
       "0.8472222222222222"
      ]
     },
     "execution_count": 252,
     "metadata": {},
     "output_type": "execute_result"
    }
   ],
   "source": [
    "#Проверим, верно ли мы посчитали recall \n",
    "metrics.recall_score(y_test, y_predict)"
   ]
  },
  {
   "cell_type": "markdown",
   "metadata": {},
   "source": [
    "Из вычислений выше видим, что модель верно относит в классу \"отток\" (\"1\") 2867 объектов из 3384. Полнота при этом равна 85%. Чтобы увеличить этот показатель до 86%, необходимо, чтобы модель относила к классу \"отток\" 2910 реальных объектов первого класса (вычисления через обычную пропорцию). Смоделируем увеличение качества модели на 1 процент: у 43 объектов, которые модель отнесла к классу \"-1\", а по факту они относятся к \"1\", поменяем вероятность на 0.9. То есть представим, что якобы наша модель верно спрогнозировала отнесение данных объектов к классу \"1\" с высокой вероятностью. "
   ]
  },
  {
   "cell_type": "code",
   "execution_count": 355,
   "metadata": {},
   "outputs": [],
   "source": [
    "j=0\n",
    "for i in range(data.shape[0]):\n",
    "    if (data.iloc[i, 1]<0.5) & (data.iloc[i, 0]==1) & (j<43):\n",
    "        data.iloc[i, 1]=0.9\n",
    "        j+=1"
   ]
  },
  {
   "cell_type": "code",
   "execution_count": 356,
   "metadata": {},
   "outputs": [],
   "source": [
    "data.sort_values('Prob_Predict', inplace = True, ascending=False)"
   ]
  },
  {
   "cell_type": "code",
   "execution_count": 357,
   "metadata": {},
   "outputs": [],
   "source": [
    "data['Predict'] = 0\n",
    "for i in range(data.shape[0]):\n",
    "    if data.iloc[i,1]>0.5: data.iloc[i,2]=1\n",
    "    else: data.iloc[i,2]=-1"
   ]
  },
  {
   "cell_type": "code",
   "execution_count": 358,
   "metadata": {},
   "outputs": [
    {
     "data": {
      "text/html": [
       "<div>\n",
       "<style scoped>\n",
       "    .dataframe tbody tr th:only-of-type {\n",
       "        vertical-align: middle;\n",
       "    }\n",
       "\n",
       "    .dataframe tbody tr th {\n",
       "        vertical-align: top;\n",
       "    }\n",
       "\n",
       "    .dataframe thead th {\n",
       "        text-align: right;\n",
       "    }\n",
       "</style>\n",
       "<table border=\"1\" class=\"dataframe\">\n",
       "  <thead>\n",
       "    <tr style=\"text-align: right;\">\n",
       "      <th>Fact</th>\n",
       "      <th>-1.0</th>\n",
       "      <th>1.0</th>\n",
       "    </tr>\n",
       "    <tr>\n",
       "      <th>Predict</th>\n",
       "      <th></th>\n",
       "      <th></th>\n",
       "    </tr>\n",
       "  </thead>\n",
       "  <tbody>\n",
       "    <tr>\n",
       "      <th>-1</th>\n",
       "      <td>2458</td>\n",
       "      <td>474</td>\n",
       "    </tr>\n",
       "    <tr>\n",
       "      <th>1</th>\n",
       "      <td>927</td>\n",
       "      <td>2910</td>\n",
       "    </tr>\n",
       "  </tbody>\n",
       "</table>\n",
       "</div>"
      ],
      "text/plain": [
       "Fact     -1.0   1.0\n",
       "Predict            \n",
       "-1       2458   474\n",
       " 1        927  2910"
      ]
     },
     "execution_count": 358,
     "metadata": {},
     "output_type": "execute_result"
    }
   ],
   "source": [
    "tab_cross2 = pd.crosstab(data.Predict, data.Fact)\n",
    "tab_cross2  "
   ]
  },
  {
   "cell_type": "code",
   "execution_count": 336,
   "metadata": {},
   "outputs": [
    {
     "data": {
      "text/plain": [
       "0.8599290780141844"
      ]
     },
     "execution_count": 336,
     "metadata": {},
     "output_type": "execute_result"
    }
   ],
   "source": [
    "metrics.recall_score(data.Fact, data.Predict)"
   ]
  },
  {
   "cell_type": "markdown",
   "metadata": {},
   "source": [
    "Выше проверили себя по таблице сопряженности и по метрике recall, видим, что повысили качество до 86%"
   ]
  },
  {
   "cell_type": "code",
   "execution_count": 359,
   "metadata": {},
   "outputs": [
    {
     "data": {
      "text/plain": [
       "Text(0.5, 1.0, 'Зависимость экономического эффекта от размера топа')"
      ]
     },
     "execution_count": 359,
     "metadata": {},
     "output_type": "execute_result"
    },
    {
     "data": {
      "image/png": "[encoded data removed]",
      "text/plain": [
       "<Figure size 432x288 with 1 Axes>"
      ]
     },
     "metadata": {
      "needs_background": "light"
     },
     "output_type": "display_data"
    }
   ],
   "source": [
    "IOC = 500\n",
    "PR = 200\n",
    "PA = 0.5\n",
    "\n",
    "tops = np.arange(0.01, 0.26, 0.01)\n",
    "effect_top = []\n",
    "for top in tops:\n",
    "    effect_top.append(effect(top, IOC, PR, PA, data))\n",
    "    \n",
    "plt.plot(tops, effect_top)\n",
    "plt.xlabel(\"Размер топа\")\n",
    "plt.ylabel(\"Экономический эффект\")\n",
    "plt.title(\"Зависимость экономического эффекта от размера топа\")"
   ]
  },
  {
   "cell_type": "markdown",
   "metadata": {},
   "source": [
    "##### Из графика видно, что за счет увеличения качества модели на 1% , размер топа снизился ориентировочно до 22% и размер экономического эффекта вырос до 30000р."
   ]
  },
  {
   "cell_type": "markdown",
   "metadata": {},
   "source": [
    "Попробуем увеличить полноту модели на 3% (по сравнению с изначальной оценкой)."
   ]
  },
  {
   "cell_type": "markdown",
   "metadata": {},
   "source": [
    "Аналогично расчетам выше, вычисляем, что к классу \"1\" модель должна отнести 2978 объектов, чтобы качество выросло до 88%. То есть еще 68 объектов нужно искусственно перевести в первый класс."
   ]
  },
  {
   "cell_type": "code",
   "execution_count": 362,
   "metadata": {},
   "outputs": [],
   "source": [
    "j=0\n",
    "for i in range(data.shape[0]):\n",
    "    if (data.iloc[i, 1]<0.5) & (data.iloc[i, 0]==1) & (j<68):\n",
    "        data.iloc[i, 1]=0.9\n",
    "        j+=1"
   ]
  },
  {
   "cell_type": "code",
   "execution_count": 363,
   "metadata": {},
   "outputs": [],
   "source": [
    "data.sort_values('Prob_Predict', inplace = True, ascending=False)"
   ]
  },
  {
   "cell_type": "code",
   "execution_count": 364,
   "metadata": {},
   "outputs": [],
   "source": [
    "data['Predict'] = 0\n",
    "for i in range(data.shape[0]):\n",
    "    if data.iloc[i,1]>0.5: data.iloc[i,2]=1\n",
    "    else: data.iloc[i,2]=-1"
   ]
  },
  {
   "cell_type": "code",
   "execution_count": 365,
   "metadata": {},
   "outputs": [
    {
     "data": {
      "text/html": [
       "<div>\n",
       "<style scoped>\n",
       "    .dataframe tbody tr th:only-of-type {\n",
       "        vertical-align: middle;\n",
       "    }\n",
       "\n",
       "    .dataframe tbody tr th {\n",
       "        vertical-align: top;\n",
       "    }\n",
       "\n",
       "    .dataframe thead th {\n",
       "        text-align: right;\n",
       "    }\n",
       "</style>\n",
       "<table border=\"1\" class=\"dataframe\">\n",
       "  <thead>\n",
       "    <tr style=\"text-align: right;\">\n",
       "      <th>Fact</th>\n",
       "      <th>-1.0</th>\n",
       "      <th>1.0</th>\n",
       "    </tr>\n",
       "    <tr>\n",
       "      <th>Predict</th>\n",
       "      <th></th>\n",
       "      <th></th>\n",
       "    </tr>\n",
       "  </thead>\n",
       "  <tbody>\n",
       "    <tr>\n",
       "      <th>-1</th>\n",
       "      <td>2458</td>\n",
       "      <td>406</td>\n",
       "    </tr>\n",
       "    <tr>\n",
       "      <th>1</th>\n",
       "      <td>927</td>\n",
       "      <td>2978</td>\n",
       "    </tr>\n",
       "  </tbody>\n",
       "</table>\n",
       "</div>"
      ],
      "text/plain": [
       "Fact     -1.0   1.0\n",
       "Predict            \n",
       "-1       2458   406\n",
       " 1        927  2978"
      ]
     },
     "execution_count": 365,
     "metadata": {},
     "output_type": "execute_result"
    }
   ],
   "source": [
    "tab_cross3 = pd.crosstab(data.Predict, data.Fact)\n",
    "tab_cross3 "
   ]
  },
  {
   "cell_type": "code",
   "execution_count": 366,
   "metadata": {},
   "outputs": [
    {
     "data": {
      "text/plain": [
       "0.8800236406619385"
      ]
     },
     "execution_count": 366,
     "metadata": {},
     "output_type": "execute_result"
    }
   ],
   "source": [
    "metrics.recall_score(data.Fact, data.Predict)"
   ]
  },
  {
   "cell_type": "code",
   "execution_count": 367,
   "metadata": {},
   "outputs": [
    {
     "data": {
      "text/plain": [
       "Text(0.5, 1.0, 'Зависимость экономического эффекта от размера топа')"
      ]
     },
     "execution_count": 367,
     "metadata": {},
     "output_type": "execute_result"
    },
    {
     "data": {
      "image/png": "[encoded data removed]",
      "text/plain": [
       "<Figure size 432x288 with 1 Axes>"
      ]
     },
     "metadata": {
      "needs_background": "light"
     },
     "output_type": "display_data"
    }
   ],
   "source": [
    "IOC = 500\n",
    "PR = 200\n",
    "PA = 0.5\n",
    "\n",
    "tops = np.arange(0.01, 0.26, 0.01)\n",
    "effect_top = []\n",
    "for top in tops:\n",
    "    effect_top.append(effect(top, IOC, PR, PA, data))\n",
    "    \n",
    "plt.plot(tops, effect_top)\n",
    "plt.xlabel(\"Размер топа\")\n",
    "plt.ylabel(\"Экономический эффект\")\n",
    "plt.title(\"Зависимость экономического эффекта от размера топа\")"
   ]
  },
  {
   "cell_type": "markdown",
   "metadata": {},
   "source": [
    "##### Из графика видим, что при увеличении качества модели на 3%, размер топа составил порядка 23% и при этом прибыль выросла уже примерно до 34000р."
   ]
  },
  {
   "cell_type": "markdown",
   "metadata": {},
   "source": [
    "## 6"
   ]
  },
  {
   "cell_type": "markdown",
   "metadata": {},
   "source": [
    "Как вы думаете, является ли экономически оправданным вложение средств в улучшение качества модели? На сколько нужно улучшить модель, чтобы это качественно сказалось на экономическом эффекте от удержания?"
   ]
  },
  {
   "cell_type": "markdown",
   "metadata": {},
   "source": [
    "Увеличение качества модели потребует вложения дополнительных средств. Возьмем результаты последней модели из предыдущего пункта (качество изначальной модели повысили на 3% и экономический эффект достиг 34000р.). При увеличении расходов на одного клиента даже на 10 руб. (сделаем PR = 210) видим, что экономический эффект резко снижается (с 34000 до 18500):"
   ]
  },
  {
   "cell_type": "code",
   "execution_count": 371,
   "metadata": {},
   "outputs": [
    {
     "data": {
      "text/plain": [
       "Text(0.5, 1.0, 'Зависимость экономического эффекта от размера топа')"
      ]
     },
     "execution_count": 371,
     "metadata": {},
     "output_type": "execute_result"
    },
    {
     "data": {
      "image/png": "[encoded data removed]",
      "text/plain": [
       "<Figure size 432x288 with 1 Axes>"
      ]
     },
     "metadata": {
      "needs_background": "light"
     },
     "output_type": "display_data"
    }
   ],
   "source": [
    "IOC = 500\n",
    "PR = 210\n",
    "PA = 0.5\n",
    "\n",
    "tops = np.arange(0.01, 0.26, 0.01)\n",
    "effect_top = []\n",
    "for top in tops:\n",
    "    effect_top.append(effect(top, IOC, PR, PA, data))\n",
    "    \n",
    "plt.plot(tops, effect_top)\n",
    "plt.xlabel(\"Размер топа\")\n",
    "plt.ylabel(\"Экономический эффект\")\n",
    "plt.title(\"Зависимость экономического эффекта от размера топа\")"
   ]
  },
  {
   "cell_type": "markdown",
   "metadata": {},
   "source": [
    "##### Следовательно ответ на вопрос зависит от того какова цена за улучшение качества модели. Видно, что экономический эффект значительно увеличивается при малейшем повышении качества, но также и значительно снижается при небольшом увеличении расходов. Кажется, что вложение средств в существенное повышение качества модели с выбранными параметрами не совсем экономически оправдано, т.к. в исходной модели доход составил порядка 27000р, а после увеличения качества только на 3% и увеличения расхода на одного клиента на 10руб, доход составил лишь 18500р."
   ]
  }
 ],
 "metadata": {
  "kernelspec": {
   "display_name": "Python 3",
   "language": "python",
   "name": "python3"
  },
  "language_info": {
   "codemirror_mode": {
    "name": "ipython",
    "version": 3
   },
   "file_extension": ".py",
   "mimetype": "text/x-python",
   "name": "python",
   "nbconvert_exporter": "python",
   "pygments_lexer": "ipython3",
   "version": "3.7.0"
  }
 },
 "nbformat": 4,
 "nbformat_minor": 2
}
